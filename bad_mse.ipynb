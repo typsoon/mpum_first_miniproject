{
 "cells": [
  {
   "cell_type": "code",
   "execution_count": 1,
   "id": "b1faf22a",
   "metadata": {},
   "outputs": [],
   "source": [
    "%autosave 0"
   ]
  },
  {
   "cell_type": "code",
   "execution_count": null,
   "id": "38996be4",
   "metadata": {
    "lines_to_next_cell": 2
   },
   "outputs": [],
   "source": [
    "from abc import abstractmethod\n",
    "import numpy as np\n",
    "import pandas as pd\n",
    "from sklearn.model_selection import train_test_split\n",
    "import matplotlib.pyplot as plt\n",
    "\n",
    "%matplotlib inline"
   ]
  },
  {
   "cell_type": "code",
   "execution_count": 2,
   "id": "e84b37b8",
   "metadata": {},
   "outputs": [],
   "source": [
    "class BaseFunc:\n",
    "    @abstractmethod\n",
    "    def predict(self, data):\n",
    "        pass\n",
    "\n",
    "    @abstractmethod\n",
    "    def derivative(self, data) -> np.matrix:\n",
    "        pass\n",
    "\n",
    "    def parameters(self):\n",
    "        return self._parameters\n",
    "\n",
    "    def update_parameters(self, new_parameters):\n",
    "        # print(\"New par shape: \", new_parameters.shape)\n",
    "        self._parameters = new_parameters"
   ]
  },
  {
   "cell_type": "code",
   "execution_count": 3,
   "id": "635c70ff",
   "metadata": {},
   "outputs": [],
   "source": [
    "class LossFunc:\n",
    "    @abstractmethod\n",
    "    def loss_value(self, prediction, ground_trouth):\n",
    "        pass\n",
    "\n",
    "    @abstractmethod\n",
    "    def loss_derivative(self, prediction, ground_trouth, parameters=None):\n",
    "        pass"
   ]
  },
  {
   "cell_type": "code",
   "execution_count": 4,
   "id": "33d76009",
   "metadata": {
    "lines_to_next_cell": 2
   },
   "outputs": [],
   "source": [
    "class Model:\n",
    "    def __init__(\n",
    "        self,\n",
    "        base_func: BaseFunc,\n",
    "        loss_func: LossFunc,\n",
    "        learning_rate,\n",
    "        regularization_derivative=lambda x: np.zeros(x.shape),\n",
    "    ) -> None:\n",
    "        self.base_func = base_func\n",
    "        self.loss_func = loss_func\n",
    "        self.learning_rate = learning_rate\n",
    "        self.regularization_derivative = regularization_derivative\n",
    "\n",
    "    def train(self, epochs_num, data, labels, loss_at_epoch=None):\n",
    "        for i in range(epochs_num):\n",
    "            prediction = self.base_func.predict(data)\n",
    "            # print(prediction.shape)\n",
    "\n",
    "            reg_derivative = self.regularization_derivative(self.base_func.parameters())\n",
    "\n",
    "            assert (\n",
    "                reg_derivative.shape == self.base_func.parameters().shape\n",
    "            ), f\"\"\"This should not happen: reg_derivative.shape: {reg_derivative.shape} != \n",
    "                parameters_shape: {self.base_func.parameters().shape}\"\"\"\n",
    "\n",
    "            # print(reg_derivative.shape)\n",
    "            gradient = (\n",
    "                self.base_func.derivative(data).T\n",
    "                @ self.loss_func.loss_derivative(prediction, labels)\n",
    "                + reg_derivative\n",
    "            )\n",
    "            # print(\n",
    "            #     f\"bsd: {self.base_func.derivative(data).T.shape}, lsd: {self.loss_func.loss_derivative(prediction, labels).shape}, reg_der: {reg_derivative.shape}\"\n",
    "            # )\n",
    "            # print(\"Gradient shape: \", gradient.shape)\n",
    "\n",
    "            new_parameters = self.base_func.parameters() - self.learning_rate * gradient\n",
    "\n",
    "            self.base_func.update_parameters(new_parameters)\n",
    "\n",
    "            if loss_at_epoch is not None:\n",
    "                loss_at_epoch.append(self.test(data, labels))\n",
    "\n",
    "            # if (i % 10) == 0:\n",
    "            #     self.learning_rate *= 0.99\n",
    "\n",
    "    def test(self, data, labels):\n",
    "        # print(data.shape)\n",
    "        prediction = self.base_func.predict(data)\n",
    "        answer = self.loss_func.loss_value(prediction, labels)\n",
    "        # print(np.array(answer).shape)\n",
    "        assert np.array(answer).shape == (), f\"Found shape: {np.array(answer).shape}\"\n",
    "\n",
    "        return answer"
   ]
  },
  {
   "cell_type": "markdown",
   "id": "90a767a2",
   "metadata": {
    "lines_to_next_cell": 2
   },
   "source": [
    "# Concrete implementations"
   ]
  },
  {
   "cell_type": "code",
   "execution_count": 5,
   "id": "343341de",
   "metadata": {},
   "outputs": [],
   "source": [
    "class OrdinaryBaseFunc(BaseFunc):\n",
    "    def __init__(self, degree, number_of_inputs) -> None:\n",
    "        # print(degree)\n",
    "        self._parameters = np.random.randn(degree)\n",
    "\n",
    "    def predict(self, data):\n",
    "        # temp = data @ self._parameters\n",
    "        # print(self._parameters.shape)\n",
    "\n",
    "        return data @ self._parameters\n",
    "\n",
    "    def derivative(self, data):\n",
    "        return data"
   ]
  },
  {
   "cell_type": "code",
   "execution_count": 6,
   "id": "567885e6",
   "metadata": {},
   "outputs": [],
   "source": [
    "class MSE(LossFunc):\n",
    "    def loss_value(self, prediction, ground_trouth):\n",
    "        return (\n",
    "            (1 / (2 * self.number_of_inputs))\n",
    "            * (ground_trouth - prediction).T\n",
    "            @ (ground_trouth - prediction)\n",
    "        )\n",
    "\n",
    "    def loss_derivative(self, prediction, ground_trouth, parameters=None):\n",
    "        return 1 / self.number_of_inputs * (prediction - ground_trouth)\n",
    "\n",
    "    def __init__(self, number_of_inputs) -> None:\n",
    "        self.number_of_inputs = number_of_inputs"
   ]
  },
  {
   "cell_type": "code",
   "execution_count": 7,
   "id": "95c9e137",
   "metadata": {},
   "outputs": [],
   "source": [
    "lambda_coefficient = 0.02\n",
    "\n",
    "\n",
    "def L2_regularization(parameters):\n",
    "    temp_parameters = np.array(parameters)\n",
    "    temp_parameters[0] = 0\n",
    "    return lambda_coefficient * 2 * temp_parameters.T\n",
    "\n",
    "\n",
    "def L1_regularization(parameters):\n",
    "    temp_parameters = np.array(parameters)\n",
    "    temp_parameters[0] = 0\n",
    "    return lambda_coefficient * np.sign(temp_parameters)"
   ]
  },
  {
   "cell_type": "markdown",
   "id": "ca2334ff",
   "metadata": {},
   "source": [
    "# Load and display data"
   ]
  },
  {
   "cell_type": "code",
   "execution_count": 8,
   "id": "4cf9d345",
   "metadata": {},
   "outputs": [],
   "source": [
    "df = pd.read_csv(\"dane.data\", delimiter=r\"\\s+\", header=None, decimal=\",\")"
   ]
  },
  {
   "cell_type": "code",
   "execution_count": 9,
   "id": "19727d54",
   "metadata": {
    "lines_to_next_cell": 0
   },
   "outputs": [],
   "source": [
    "def divide_data(data, test_ratio):\n",
    "    # return train_test_split(data, train_size=train_ratio,  random_state=42)\n",
    "    return train_test_split(data, test_size=test_ratio, random_state=6)\n",
    "    # return train_test_split(data, train_size=train_ratio, stratify=housing[\"median_house_value\"], random_state=8)\n",
    "\n",
    "\n",
    "train_set, test_set = divide_data(df, test_ratio=0.2)\n",
    "train_set, validation_set = divide_data(train_set, test_ratio=0.2 / 0.6)"
   ]
  },
  {
   "cell_type": "code",
   "execution_count": 10,
   "id": "84bf0d71",
   "metadata": {},
   "outputs": [
    {
     "data": {
      "text/html": [
       "<div>\n",
       "<style scoped>\n",
       "    .dataframe tbody tr th:only-of-type {\n",
       "        vertical-align: middle;\n",
       "    }\n",
       "\n",
       "    .dataframe tbody tr th {\n",
       "        vertical-align: top;\n",
       "    }\n",
       "\n",
       "    .dataframe thead th {\n",
       "        text-align: right;\n",
       "    }\n",
       "</style>\n",
       "<table border=\"1\" class=\"dataframe\">\n",
       "  <thead>\n",
       "    <tr style=\"text-align: right;\">\n",
       "      <th></th>\n",
       "      <th>0</th>\n",
       "      <th>1</th>\n",
       "      <th>2</th>\n",
       "      <th>3</th>\n",
       "      <th>4</th>\n",
       "      <th>5</th>\n",
       "      <th>6</th>\n",
       "    </tr>\n",
       "  </thead>\n",
       "  <tbody>\n",
       "    <tr>\n",
       "      <th>1549</th>\n",
       "      <td>5</td>\n",
       "      <td>-3</td>\n",
       "      <td>5</td>\n",
       "      <td>11</td>\n",
       "      <td>31</td>\n",
       "      <td>-2</td>\n",
       "      <td>17</td>\n",
       "    </tr>\n",
       "    <tr>\n",
       "      <th>1503</th>\n",
       "      <td>5</td>\n",
       "      <td>-1</td>\n",
       "      <td>2</td>\n",
       "      <td>37</td>\n",
       "      <td>31</td>\n",
       "      <td>1</td>\n",
       "      <td>13</td>\n",
       "    </tr>\n",
       "    <tr>\n",
       "      <th>156</th>\n",
       "      <td>-9</td>\n",
       "      <td>-1</td>\n",
       "      <td>5</td>\n",
       "      <td>8</td>\n",
       "      <td>42</td>\n",
       "      <td>-1</td>\n",
       "      <td>13</td>\n",
       "    </tr>\n",
       "    <tr>\n",
       "      <th>824</th>\n",
       "      <td>-2</td>\n",
       "      <td>1</td>\n",
       "      <td>5</td>\n",
       "      <td>20</td>\n",
       "      <td>57</td>\n",
       "      <td>0</td>\n",
       "      <td>9</td>\n",
       "    </tr>\n",
       "    <tr>\n",
       "      <th>1944</th>\n",
       "      <td>9</td>\n",
       "      <td>-3</td>\n",
       "      <td>4</td>\n",
       "      <td>9</td>\n",
       "      <td>55</td>\n",
       "      <td>-2</td>\n",
       "      <td>17</td>\n",
       "    </tr>\n",
       "  </tbody>\n",
       "</table>\n",
       "</div>"
      ],
      "text/plain": [
       "      0  1  2   3   4  5   6\n",
       "1549  5 -3  5  11  31 -2  17\n",
       "1503  5 -1  2  37  31  1  13\n",
       "156  -9 -1  5   8  42 -1  13\n",
       "824  -2  1  5  20  57  0   9\n",
       "1944  9 -3  4   9  55 -2  17"
      ]
     },
     "execution_count": 10,
     "metadata": {},
     "output_type": "execute_result"
    }
   ],
   "source": [
    "train_labels = train_set.pop(train_set.columns[7])\n",
    "validation_labels = validation_set.pop(validation_set.columns[7])\n",
    "test_labels = test_set.pop(test_set.columns[7])\n",
    "# train_set.insert(0, \"Ones\", 1)\n",
    "train_set.head()"
   ]
  },
  {
   "cell_type": "code",
   "execution_count": 11,
   "id": "f6b9beb9",
   "metadata": {
    "scrolled": true
   },
   "outputs": [
    {
     "data": {
      "text/plain": [
       "1549     598.40\n",
       "1503    1312.93\n",
       "156      157.59\n",
       "824     1355.95\n",
       "1944     701.29\n",
       "Name: 7, dtype: float64"
      ]
     },
     "execution_count": 11,
     "metadata": {},
     "output_type": "execute_result"
    }
   ],
   "source": [
    "train_labels.head()"
   ]
  },
  {
   "cell_type": "markdown",
   "id": "5656cbb4",
   "metadata": {},
   "source": [
    "# Analyze Data"
   ]
  },
  {
   "cell_type": "code",
   "execution_count": 12,
   "id": "80ef0570",
   "metadata": {},
   "outputs": [
    {
     "name": "stdout",
     "output_type": "stream",
     "text": [
      "<class 'pandas.core.frame.DataFrame'>\n",
      "RangeIndex: 1999 entries, 0 to 1998\n",
      "Data columns (total 8 columns):\n",
      " #   Column  Non-Null Count  Dtype  \n",
      "---  ------  --------------  -----  \n",
      " 0   0       1999 non-null   int64  \n",
      " 1   1       1999 non-null   int64  \n",
      " 2   2       1999 non-null   int64  \n",
      " 3   3       1999 non-null   int64  \n",
      " 4   4       1999 non-null   int64  \n",
      " 5   5       1999 non-null   int64  \n",
      " 6   6       1999 non-null   int64  \n",
      " 7   7       1999 non-null   float64\n",
      "dtypes: float64(1), int64(7)\n",
      "memory usage: 125.1 KB\n"
     ]
    }
   ],
   "source": [
    "df.info()"
   ]
  },
  {
   "cell_type": "code",
   "execution_count": 13,
   "id": "5b7df08f",
   "metadata": {},
   "outputs": [
    {
     "data": {
      "text/html": [
       "<div>\n",
       "<style scoped>\n",
       "    .dataframe tbody tr th:only-of-type {\n",
       "        vertical-align: middle;\n",
       "    }\n",
       "\n",
       "    .dataframe tbody tr th {\n",
       "        vertical-align: top;\n",
       "    }\n",
       "\n",
       "    .dataframe thead th {\n",
       "        text-align: right;\n",
       "    }\n",
       "</style>\n",
       "<table border=\"1\" class=\"dataframe\">\n",
       "  <thead>\n",
       "    <tr style=\"text-align: right;\">\n",
       "      <th></th>\n",
       "      <th>0</th>\n",
       "      <th>1</th>\n",
       "      <th>2</th>\n",
       "      <th>3</th>\n",
       "      <th>4</th>\n",
       "      <th>5</th>\n",
       "      <th>6</th>\n",
       "      <th>7</th>\n",
       "    </tr>\n",
       "  </thead>\n",
       "  <tbody>\n",
       "    <tr>\n",
       "      <th>count</th>\n",
       "      <td>1999.000000</td>\n",
       "      <td>1999.000000</td>\n",
       "      <td>1999.000000</td>\n",
       "      <td>1999.000000</td>\n",
       "      <td>1999.000000</td>\n",
       "      <td>1999.000000</td>\n",
       "      <td>1999.000000</td>\n",
       "      <td>1999.000000</td>\n",
       "    </tr>\n",
       "    <tr>\n",
       "      <th>mean</th>\n",
       "      <td>-0.393697</td>\n",
       "      <td>-0.566783</td>\n",
       "      <td>4.534267</td>\n",
       "      <td>18.230115</td>\n",
       "      <td>44.667834</td>\n",
       "      <td>-1.002001</td>\n",
       "      <td>12.133567</td>\n",
       "      <td>972.433012</td>\n",
       "    </tr>\n",
       "    <tr>\n",
       "      <th>std</th>\n",
       "      <td>5.719554</td>\n",
       "      <td>2.870306</td>\n",
       "      <td>1.710739</td>\n",
       "      <td>12.076917</td>\n",
       "      <td>8.591131</td>\n",
       "      <td>1.427948</td>\n",
       "      <td>5.740612</td>\n",
       "      <td>537.603977</td>\n",
       "    </tr>\n",
       "    <tr>\n",
       "      <th>min</th>\n",
       "      <td>-10.000000</td>\n",
       "      <td>-5.000000</td>\n",
       "      <td>2.000000</td>\n",
       "      <td>-2.000000</td>\n",
       "      <td>30.000000</td>\n",
       "      <td>-3.000000</td>\n",
       "      <td>3.000000</td>\n",
       "      <td>-238.060000</td>\n",
       "    </tr>\n",
       "    <tr>\n",
       "      <th>25%</th>\n",
       "      <td>-5.000000</td>\n",
       "      <td>-3.000000</td>\n",
       "      <td>3.000000</td>\n",
       "      <td>8.000000</td>\n",
       "      <td>37.000000</td>\n",
       "      <td>-2.000000</td>\n",
       "      <td>7.000000</td>\n",
       "      <td>500.105000</td>\n",
       "    </tr>\n",
       "    <tr>\n",
       "      <th>50%</th>\n",
       "      <td>0.000000</td>\n",
       "      <td>-1.000000</td>\n",
       "      <td>5.000000</td>\n",
       "      <td>18.000000</td>\n",
       "      <td>45.000000</td>\n",
       "      <td>-1.000000</td>\n",
       "      <td>13.000000</td>\n",
       "      <td>949.580000</td>\n",
       "    </tr>\n",
       "    <tr>\n",
       "      <th>75%</th>\n",
       "      <td>5.000000</td>\n",
       "      <td>2.000000</td>\n",
       "      <td>6.000000</td>\n",
       "      <td>29.000000</td>\n",
       "      <td>52.000000</td>\n",
       "      <td>0.000000</td>\n",
       "      <td>17.000000</td>\n",
       "      <td>1363.160000</td>\n",
       "    </tr>\n",
       "    <tr>\n",
       "      <th>max</th>\n",
       "      <td>9.000000</td>\n",
       "      <td>4.000000</td>\n",
       "      <td>7.000000</td>\n",
       "      <td>39.000000</td>\n",
       "      <td>59.000000</td>\n",
       "      <td>1.000000</td>\n",
       "      <td>21.000000</td>\n",
       "      <td>2718.900000</td>\n",
       "    </tr>\n",
       "  </tbody>\n",
       "</table>\n",
       "</div>"
      ],
      "text/plain": [
       "                 0            1            2            3            4  \\\n",
       "count  1999.000000  1999.000000  1999.000000  1999.000000  1999.000000   \n",
       "mean     -0.393697    -0.566783     4.534267    18.230115    44.667834   \n",
       "std       5.719554     2.870306     1.710739    12.076917     8.591131   \n",
       "min     -10.000000    -5.000000     2.000000    -2.000000    30.000000   \n",
       "25%      -5.000000    -3.000000     3.000000     8.000000    37.000000   \n",
       "50%       0.000000    -1.000000     5.000000    18.000000    45.000000   \n",
       "75%       5.000000     2.000000     6.000000    29.000000    52.000000   \n",
       "max       9.000000     4.000000     7.000000    39.000000    59.000000   \n",
       "\n",
       "                 5            6            7  \n",
       "count  1999.000000  1999.000000  1999.000000  \n",
       "mean     -1.002001    12.133567   972.433012  \n",
       "std       1.427948     5.740612   537.603977  \n",
       "min      -3.000000     3.000000  -238.060000  \n",
       "25%      -2.000000     7.000000   500.105000  \n",
       "50%      -1.000000    13.000000   949.580000  \n",
       "75%       0.000000    17.000000  1363.160000  \n",
       "max       1.000000    21.000000  2718.900000  "
      ]
     },
     "execution_count": 13,
     "metadata": {},
     "output_type": "execute_result"
    }
   ],
   "source": [
    "df.describe()"
   ]
  },
  {
   "cell_type": "code",
   "execution_count": 14,
   "id": "e07ece1b",
   "metadata": {},
   "outputs": [
    {
     "name": "stdout",
     "output_type": "stream",
     "text": [
      "8\n",
      "134\n"
     ]
    },
    {
     "name": "stderr",
     "output_type": "stream",
     "text": [
      "/tmp/ipykernel_13349/2069864332.py:22: PerformanceWarning: DataFrame is highly fragmented.  This is usually the result of calling `frame.insert` many times, which has poor performance.  Consider joining all columns at once using pd.concat(axis=1) instead. To get a de-fragmented frame, use `newframe = frame.copy()`\n",
      "  df_copy[f\"f_{first}*f_{second}*f_{third}\"] = (\n",
      "/tmp/ipykernel_13349/2069864332.py:22: PerformanceWarning: DataFrame is highly fragmented.  This is usually the result of calling `frame.insert` many times, which has poor performance.  Consider joining all columns at once using pd.concat(axis=1) instead. To get a de-fragmented frame, use `newframe = frame.copy()`\n",
      "  df_copy[f\"f_{first}*f_{second}*f_{third}\"] = (\n",
      "/tmp/ipykernel_13349/2069864332.py:22: PerformanceWarning: DataFrame is highly fragmented.  This is usually the result of calling `frame.insert` many times, which has poor performance.  Consider joining all columns at once using pd.concat(axis=1) instead. To get a de-fragmented frame, use `newframe = frame.copy()`\n",
      "  df_copy[f\"f_{first}*f_{second}*f_{third}\"] = (\n",
      "/tmp/ipykernel_13349/2069864332.py:22: PerformanceWarning: DataFrame is highly fragmented.  This is usually the result of calling `frame.insert` many times, which has poor performance.  Consider joining all columns at once using pd.concat(axis=1) instead. To get a de-fragmented frame, use `newframe = frame.copy()`\n",
      "  df_copy[f\"f_{first}*f_{second}*f_{third}\"] = (\n",
      "/tmp/ipykernel_13349/2069864332.py:22: PerformanceWarning: DataFrame is highly fragmented.  This is usually the result of calling `frame.insert` many times, which has poor performance.  Consider joining all columns at once using pd.concat(axis=1) instead. To get a de-fragmented frame, use `newframe = frame.copy()`\n",
      "  df_copy[f\"f_{first}*f_{second}*f_{third}\"] = (\n",
      "/tmp/ipykernel_13349/2069864332.py:22: PerformanceWarning: DataFrame is highly fragmented.  This is usually the result of calling `frame.insert` many times, which has poor performance.  Consider joining all columns at once using pd.concat(axis=1) instead. To get a de-fragmented frame, use `newframe = frame.copy()`\n",
      "  df_copy[f\"f_{first}*f_{second}*f_{third}\"] = (\n",
      "/tmp/ipykernel_13349/2069864332.py:22: PerformanceWarning: DataFrame is highly fragmented.  This is usually the result of calling `frame.insert` many times, which has poor performance.  Consider joining all columns at once using pd.concat(axis=1) instead. To get a de-fragmented frame, use `newframe = frame.copy()`\n",
      "  df_copy[f\"f_{first}*f_{second}*f_{third}\"] = (\n",
      "/tmp/ipykernel_13349/2069864332.py:22: PerformanceWarning: DataFrame is highly fragmented.  This is usually the result of calling `frame.insert` many times, which has poor performance.  Consider joining all columns at once using pd.concat(axis=1) instead. To get a de-fragmented frame, use `newframe = frame.copy()`\n",
      "  df_copy[f\"f_{first}*f_{second}*f_{third}\"] = (\n",
      "/tmp/ipykernel_13349/2069864332.py:22: PerformanceWarning: DataFrame is highly fragmented.  This is usually the result of calling `frame.insert` many times, which has poor performance.  Consider joining all columns at once using pd.concat(axis=1) instead. To get a de-fragmented frame, use `newframe = frame.copy()`\n",
      "  df_copy[f\"f_{first}*f_{second}*f_{third}\"] = (\n",
      "/tmp/ipykernel_13349/2069864332.py:22: PerformanceWarning: DataFrame is highly fragmented.  This is usually the result of calling `frame.insert` many times, which has poor performance.  Consider joining all columns at once using pd.concat(axis=1) instead. To get a de-fragmented frame, use `newframe = frame.copy()`\n",
      "  df_copy[f\"f_{first}*f_{second}*f_{third}\"] = (\n",
      "/tmp/ipykernel_13349/2069864332.py:22: PerformanceWarning: DataFrame is highly fragmented.  This is usually the result of calling `frame.insert` many times, which has poor performance.  Consider joining all columns at once using pd.concat(axis=1) instead. To get a de-fragmented frame, use `newframe = frame.copy()`\n",
      "  df_copy[f\"f_{first}*f_{second}*f_{third}\"] = (\n",
      "/tmp/ipykernel_13349/2069864332.py:22: PerformanceWarning: DataFrame is highly fragmented.  This is usually the result of calling `frame.insert` many times, which has poor performance.  Consider joining all columns at once using pd.concat(axis=1) instead. To get a de-fragmented frame, use `newframe = frame.copy()`\n",
      "  df_copy[f\"f_{first}*f_{second}*f_{third}\"] = (\n",
      "/tmp/ipykernel_13349/2069864332.py:22: PerformanceWarning: DataFrame is highly fragmented.  This is usually the result of calling `frame.insert` many times, which has poor performance.  Consider joining all columns at once using pd.concat(axis=1) instead. To get a de-fragmented frame, use `newframe = frame.copy()`\n",
      "  df_copy[f\"f_{first}*f_{second}*f_{third}\"] = (\n",
      "/tmp/ipykernel_13349/2069864332.py:22: PerformanceWarning: DataFrame is highly fragmented.  This is usually the result of calling `frame.insert` many times, which has poor performance.  Consider joining all columns at once using pd.concat(axis=1) instead. To get a de-fragmented frame, use `newframe = frame.copy()`\n",
      "  df_copy[f\"f_{first}*f_{second}*f_{third}\"] = (\n",
      "/tmp/ipykernel_13349/2069864332.py:22: PerformanceWarning: DataFrame is highly fragmented.  This is usually the result of calling `frame.insert` many times, which has poor performance.  Consider joining all columns at once using pd.concat(axis=1) instead. To get a de-fragmented frame, use `newframe = frame.copy()`\n",
      "  df_copy[f\"f_{first}*f_{second}*f_{third}\"] = (\n",
      "/tmp/ipykernel_13349/2069864332.py:22: PerformanceWarning: DataFrame is highly fragmented.  This is usually the result of calling `frame.insert` many times, which has poor performance.  Consider joining all columns at once using pd.concat(axis=1) instead. To get a de-fragmented frame, use `newframe = frame.copy()`\n",
      "  df_copy[f\"f_{first}*f_{second}*f_{third}\"] = (\n",
      "/tmp/ipykernel_13349/2069864332.py:22: PerformanceWarning: DataFrame is highly fragmented.  This is usually the result of calling `frame.insert` many times, which has poor performance.  Consider joining all columns at once using pd.concat(axis=1) instead. To get a de-fragmented frame, use `newframe = frame.copy()`\n",
      "  df_copy[f\"f_{first}*f_{second}*f_{third}\"] = (\n",
      "/tmp/ipykernel_13349/2069864332.py:22: PerformanceWarning: DataFrame is highly fragmented.  This is usually the result of calling `frame.insert` many times, which has poor performance.  Consider joining all columns at once using pd.concat(axis=1) instead. To get a de-fragmented frame, use `newframe = frame.copy()`\n",
      "  df_copy[f\"f_{first}*f_{second}*f_{third}\"] = (\n",
      "/tmp/ipykernel_13349/2069864332.py:22: PerformanceWarning: DataFrame is highly fragmented.  This is usually the result of calling `frame.insert` many times, which has poor performance.  Consider joining all columns at once using pd.concat(axis=1) instead. To get a de-fragmented frame, use `newframe = frame.copy()`\n",
      "  df_copy[f\"f_{first}*f_{second}*f_{third}\"] = (\n",
      "/tmp/ipykernel_13349/2069864332.py:22: PerformanceWarning: DataFrame is highly fragmented.  This is usually the result of calling `frame.insert` many times, which has poor performance.  Consider joining all columns at once using pd.concat(axis=1) instead. To get a de-fragmented frame, use `newframe = frame.copy()`\n",
      "  df_copy[f\"f_{first}*f_{second}*f_{third}\"] = (\n",
      "/tmp/ipykernel_13349/2069864332.py:22: PerformanceWarning: DataFrame is highly fragmented.  This is usually the result of calling `frame.insert` many times, which has poor performance.  Consider joining all columns at once using pd.concat(axis=1) instead. To get a de-fragmented frame, use `newframe = frame.copy()`\n",
      "  df_copy[f\"f_{first}*f_{second}*f_{third}\"] = (\n",
      "/tmp/ipykernel_13349/2069864332.py:22: PerformanceWarning: DataFrame is highly fragmented.  This is usually the result of calling `frame.insert` many times, which has poor performance.  Consider joining all columns at once using pd.concat(axis=1) instead. To get a de-fragmented frame, use `newframe = frame.copy()`\n",
      "  df_copy[f\"f_{first}*f_{second}*f_{third}\"] = (\n",
      "/tmp/ipykernel_13349/2069864332.py:22: PerformanceWarning: DataFrame is highly fragmented.  This is usually the result of calling `frame.insert` many times, which has poor performance.  Consider joining all columns at once using pd.concat(axis=1) instead. To get a de-fragmented frame, use `newframe = frame.copy()`\n",
      "  df_copy[f\"f_{first}*f_{second}*f_{third}\"] = (\n",
      "/tmp/ipykernel_13349/2069864332.py:22: PerformanceWarning: DataFrame is highly fragmented.  This is usually the result of calling `frame.insert` many times, which has poor performance.  Consider joining all columns at once using pd.concat(axis=1) instead. To get a de-fragmented frame, use `newframe = frame.copy()`\n",
      "  df_copy[f\"f_{first}*f_{second}*f_{third}\"] = (\n",
      "/tmp/ipykernel_13349/2069864332.py:22: PerformanceWarning: DataFrame is highly fragmented.  This is usually the result of calling `frame.insert` many times, which has poor performance.  Consider joining all columns at once using pd.concat(axis=1) instead. To get a de-fragmented frame, use `newframe = frame.copy()`\n",
      "  df_copy[f\"f_{first}*f_{second}*f_{third}\"] = (\n",
      "/tmp/ipykernel_13349/2069864332.py:22: PerformanceWarning: DataFrame is highly fragmented.  This is usually the result of calling `frame.insert` many times, which has poor performance.  Consider joining all columns at once using pd.concat(axis=1) instead. To get a de-fragmented frame, use `newframe = frame.copy()`\n",
      "  df_copy[f\"f_{first}*f_{second}*f_{third}\"] = (\n",
      "/tmp/ipykernel_13349/2069864332.py:22: PerformanceWarning: DataFrame is highly fragmented.  This is usually the result of calling `frame.insert` many times, which has poor performance.  Consider joining all columns at once using pd.concat(axis=1) instead. To get a de-fragmented frame, use `newframe = frame.copy()`\n",
      "  df_copy[f\"f_{first}*f_{second}*f_{third}\"] = (\n",
      "/tmp/ipykernel_13349/2069864332.py:22: PerformanceWarning: DataFrame is highly fragmented.  This is usually the result of calling `frame.insert` many times, which has poor performance.  Consider joining all columns at once using pd.concat(axis=1) instead. To get a de-fragmented frame, use `newframe = frame.copy()`\n",
      "  df_copy[f\"f_{first}*f_{second}*f_{third}\"] = (\n"
     ]
    },
    {
     "data": {
      "text/plain": [
       "7                        1.000000\n",
       "f_3^1 * f_4              0.934055\n",
       "f_3 * f_4^2              0.912975\n",
       "f_3^2 * f_4              0.906840\n",
       "3                        0.867767\n",
       "feature 3, exponent 2    0.847247\n",
       "feature 3, exponent 3    0.802864\n",
       "f_2*f_3*f_4              0.779805\n",
       "feature 3, exponent 4    0.761175\n",
       "f_2 * f_3^2              0.744624\n",
       "f_3*f_4*f_6              0.734175\n",
       "feature 3, exponent 5    0.725373\n",
       "f_2^1 * f_3              0.715264\n",
       "f_3^2 * f_6              0.712603\n",
       "f_3^1 * f_6              0.669817\n",
       "f_2*f_3*f_6              0.577972\n",
       "f_2^2 * f_3              0.550614\n",
       "f_3 * f_6^2              0.508773\n",
       "f_1^2 * f_3              0.441636\n",
       "f_0^2 * f_3              0.415215\n",
       "f_3 * f_5^2              0.383960\n",
       "f_0 * f_2^2              0.319429\n",
       "f_0^1 * f_2              0.313455\n",
       "f_0*f_2*f_4              0.300624\n",
       "4                        0.299800\n",
       "feature 4, exponent 2    0.298828\n",
       "f_0*f_2*f_6              0.296200\n",
       "feature 4, exponent 3    0.295995\n",
       "feature 4, exponent 4    0.291756\n",
       "feature 4, exponent 5    0.286567\n",
       "0                        0.276799\n",
       "f_0^1 * f_6              0.267960\n",
       "f_0^1 * f_4              0.264925\n",
       "f_0*f_4*f_6              0.256588\n",
       "feature 0, exponent 3    0.253670\n",
       "f_0 * f_4^2              0.246912\n",
       "f_0 * f_6^2              0.246476\n",
       "f_0 * f_1^2              0.231533\n",
       "feature 0, exponent 5    0.226680\n",
       "f_0*f_2*f_3              0.220567\n",
       "f_4^2 * f_6              0.210579\n",
       "f_2 * f_4^2              0.204243\n",
       "f_0*f_3*f_6              0.187327\n",
       "f_0^1 * f_3              0.186810\n",
       "f_0*f_3*f_4              0.177889\n",
       "f_0 * f_5^2              0.172760\n",
       "f_4^1 * f_6              0.147972\n",
       "f_0 * f_3^2              0.145722\n",
       "f_2^1 * f_4              0.137542\n",
       "f_2*f_4*f_6              0.121532\n",
       "f_4 * f_6^2              0.106275\n",
       "f_0*f_1*f_5              0.085937\n",
       "f_2^2 * f_4              0.084549\n",
       "f_1^2 * f_4              0.068439\n",
       "f_4 * f_5^2              0.045929\n",
       "f_0^2 * f_5              0.045469\n",
       "f_1*f_3*f_5              0.040993\n",
       "6                        0.035903\n",
       "f_2^1 * f_6              0.034044\n",
       "f_2 * f_6^2              0.033870\n",
       "feature 6, exponent 2    0.032598\n",
       "feature 6, exponent 3    0.030372\n",
       "feature 6, exponent 4    0.029073\n",
       "feature 6, exponent 5    0.028330\n",
       "f_2^2 * f_6              0.026066\n",
       "f_1^2 * f_6              0.023815\n",
       "f_1*f_2*f_5              0.021858\n",
       "feature 1, exponent 4    0.012156\n",
       "f_1*f_4*f_5              0.010059\n",
       "feature 5, exponent 3    0.009810\n",
       "feature 5, exponent 5    0.009168\n",
       "5                        0.008607\n",
       "f_1*f_5*f_6              0.004714\n",
       "f_1^1 * f_5              0.004712\n",
       "f_5^1 * f_6              0.004378\n",
       "2                        0.004164\n",
       "f_2 * f_5^2              0.003384\n",
       "f_1^2 * f_2              0.002571\n",
       "feature 1, exponent 2    0.002516\n",
       "feature 2, exponent 2    0.002384\n",
       "f_5 * f_6^2              0.000643\n",
       "feature 2, exponent 3    0.000270\n",
       "feature 2, exponent 4   -0.001765\n",
       "f_2^1 * f_5             -0.002229\n",
       "f_0^2 * f_4             -0.002544\n",
       "f_1^2 * f_5             -0.002800\n",
       "f_5^2 * f_6             -0.002809\n",
       "feature 2, exponent 5   -0.003538\n",
       "f_1 * f_5^2             -0.008401\n",
       "f_2^2 * f_5             -0.008715\n",
       "feature 5, exponent 4   -0.009443\n",
       "feature 5, exponent 2   -0.009805\n",
       "f_2*f_5*f_6             -0.012560\n",
       "f_0^2 * f_1             -0.018504\n",
       "f_1 * f_6^2             -0.027341\n",
       "f_1^1 * f_6             -0.029056\n",
       "f_4*f_5*f_6             -0.030558\n",
       "f_1*f_2*f_6             -0.031357\n",
       "f_4^1 * f_5             -0.032390\n",
       "feature 1, exponent 5   -0.034472\n",
       "1                       -0.035903\n",
       "f_0^2 * f_6             -0.037231\n",
       "feature 1, exponent 3   -0.037398\n",
       "f_1 * f_2^2             -0.037821\n",
       "f_1^1 * f_2             -0.040081\n",
       "f_2*f_4*f_5             -0.041251\n",
       "f_1^1 * f_4             -0.050905\n",
       "f_1*f_2*f_4             -0.056720\n",
       "f_1 * f_4^2             -0.062153\n",
       "feature 0, exponent 2   -0.064441\n",
       "f_0^2 * f_2             -0.065667\n",
       "f_4^2 * f_5             -0.065774\n",
       "f_1*f_4*f_6             -0.066470\n",
       "f_0*f_1*f_3             -0.078264\n",
       "feature 0, exponent 4   -0.081662\n",
       "f_0*f_1*f_4             -0.092667\n",
       "f_0*f_1*f_2             -0.093523\n",
       "f_0^1 * f_1             -0.094520\n",
       "f_0*f_3*f_5             -0.103717\n",
       "f_1^1 * f_3             -0.108958\n",
       "f_1*f_2*f_3             -0.112609\n",
       "f_1 * f_3^2             -0.123770\n",
       "f_1*f_3*f_4             -0.125497\n",
       "f_0*f_4*f_5             -0.144598\n",
       "f_0^1 * f_5             -0.145707\n",
       "f_0*f_5*f_6             -0.156629\n",
       "f_0*f_2*f_5             -0.163563\n",
       "f_0*f_1*f_6             -0.180759\n",
       "f_3*f_5*f_6             -0.263398\n",
       "f_1*f_3*f_6             -0.271312\n",
       "f_2*f_3*f_5             -0.283287\n",
       "f_3^1 * f_5             -0.302550\n",
       "f_3*f_4*f_5             -0.341230\n",
       "f_3^2 * f_5             -0.365582\n",
       "Name: 7, dtype: float64"
      ]
     },
     "execution_count": 14,
     "metadata": {},
     "output_type": "execute_result"
    }
   ],
   "source": [
    "df_copy = df.copy()\n",
    "cols_num = len(df_copy.columns)\n",
    "\n",
    "new_columns = {}\n",
    "\n",
    "for exponent in range(2, 6):\n",
    "    for i in range(cols_num - 1):\n",
    "        new_columns[f\"feature_{i}_exp_{exponent}\"] = df_copy.iloc[:, i] ** exponent\n",
    "\n",
    "# for left in range(cols_num - 1):\n",
    "#     for right in range(left + 1, cols_num - 1):\n",
    "#         new_columns[f\"f_{left} + f_{right}\"] = df_copy.iloc[:, left] + df_copy.iloc[:, right]\n",
    "\n",
    "for exponent in range(1, 3):\n",
    "    for left in range(cols_num - 1):\n",
    "        for right in range(left + 1, cols_num - 1):\n",
    "            new_columns[f\"f_{left}^{exponent} * f_{right}\"] = (\n",
    "                df_copy.iloc[:, left] ** exponent * df_copy.iloc[:, right]\n",
    "            )\n",
    "            if exponent > 1:\n",
    "                new_columns[f\"f_{left} * f_{right}^{exponent}\"] = (\n",
    "                    df_copy.iloc[:, left] * df_copy.iloc[:, right] ** exponent\n",
    "                )\n",
    "\n",
    "for first in range(cols_num - 1):\n",
    "    for second in range(first + 1, cols_num - 1):\n",
    "        for third in range(second + 1, cols_num - 1):\n",
    "            new_columns[f\"f_{first} * f_{second} * f_{third}\"] = (\n",
    "                df_copy.iloc[:, first]\n",
    "                * df_copy.iloc[:, second]\n",
    "                * df_copy.iloc[:, third]\n",
    "            )\n",
    "\n",
    "\n",
    "base_col = df.iloc[:, 3]\n",
    "mean_3 = np.mean(base_col.to_numpy())\n",
    "powers = [1 / 10, 1 / 20, 1 / 100]\n",
    "powers += range(1, 100)\n",
    "temp = pd.DataFrame(\n",
    "    {\n",
    "        f\"exp -([3]-mean[3])^2/{s}^2\": np.exp(-((base_col - mean_3) ** 2) / (s**2))\n",
    "        for s in powers\n",
    "    }\n",
    ")\n",
    "\n",
    "df_copy = pd.concat([df_copy, pd.DataFrame(new_columns), temp], axis=1)\n",
    "cols_num = len(df_copy.T)\n",
    "print(cols_num)\n",
    "\n",
    "corr_matrix = df_copy.corr()\n",
    "# # corr_matrix = corr_matrix[abs(corr_matrix[1]) >= 0.05]\n",
    "pd.set_option(\"display.max_rows\", 200)\n",
    "\n",
    "correlations = corr_matrix[7]\n",
    "correlations = correlations[abs(correlations) > 0.25]\n",
    "correlations.sort_values(ascending=False)"
   ]
  },
  {
   "cell_type": "code",
   "execution_count": 15,
   "id": "be0090a0",
   "metadata": {},
   "outputs": [
    {
     "data": {
      "image/png": "[encoded data removed]",
      "text/plain": [
       "<Figure size 2000x1500 with 9 Axes>"
      ]
     },
     "metadata": {},
     "output_type": "display_data"
    }
   ],
   "source": [
    "pd.reset_option(\"display.max_rows\")\n",
    "df.hist(bins=50, figsize=(20, 15))\n",
    "plt.show()"
   ]
  },
  {
   "cell_type": "code",
   "execution_count": 16,
   "id": "dfec1c3f",
   "metadata": {},
   "outputs": [],
   "source": [
    "def standarize_matrix_and_add_ones(data_matrix):\n",
    "    mean = np.mean(data_matrix, axis=0)\n",
    "    std = np.std(data_matrix, axis=0)\n",
    "    std[std == 0] = 1\n",
    "\n",
    "    standarized = (data_matrix - mean) / std\n",
    "    return np.c_[np.ones(standarized.shape[0]), standarized]"
   ]
  },
  {
   "cell_type": "code",
   "execution_count": 17,
   "id": "c406e79d",
   "metadata": {},
   "outputs": [
    {
     "name": "stdout",
     "output_type": "stream",
     "text": [
      "[[ 1.          0.93009054 -0.85396457  0.26424844 -0.57262352 -1.56020811\n",
      "  -0.70065979  0.85396457]\n",
      " [ 1.          0.93009054 -0.15275234 -1.48011885  1.59201065 -1.56020811\n",
      "   1.41522682  0.15275234]\n",
      " [ 1.         -1.49686955 -0.15275234  0.26424844 -0.822389   -0.27818258\n",
      "   0.00463575  0.15275234]\n",
      " [ 1.         -0.2833895   0.5484599   0.26424844  0.17667292  1.47003405\n",
      "   0.70993128 -0.5484599 ]\n",
      " [ 1.          1.62350771 -0.85396457 -0.31720732 -0.73913384  1.2369385\n",
      "  -0.70065979  0.85396457]\n",
      " [ 1.          0.58338195 -0.50335845  1.42715997 -1.40517513 -0.86092145\n",
      "   0.70993128  0.50335845]]\n",
      "(1065, 8)\n",
      "(1065,)\n"
     ]
    }
   ],
   "source": [
    "def to_matrices(data, labels, preprocess_func=lambda x: x):\n",
    "    return preprocess_func(data.to_numpy()), labels.to_numpy()\n",
    "\n",
    "\n",
    "train_matrix, train_labels_matrix = to_matrices(\n",
    "    train_set, train_labels, standarize_matrix_and_add_ones\n",
    ")\n",
    "\n",
    "\n",
    "print(train_matrix[:6])\n",
    "print(train_matrix.shape)\n",
    "print(train_labels_matrix.shape)"
   ]
  },
  {
   "cell_type": "code",
   "execution_count": 18,
   "id": "dd3f7e74",
   "metadata": {},
   "outputs": [
    {
     "name": "stdout",
     "output_type": "stream",
     "text": [
      "(400, 8) (400,)\n"
     ]
    }
   ],
   "source": [
    "\n",
    "validation_matrix, validation_labels_matrix = to_matrices(\n",
    "    validation_set, validation_labels, standarize_matrix_and_add_ones\n",
    ")\n",
    "test_matrix, test_labels_matrix = to_matrices(\n",
    "    test_set, test_labels, standarize_matrix_and_add_ones\n",
    ")\n",
    "\n",
    "print(test_matrix.shape, test_labels_matrix.shape)\n",
    "\n",
    "# test_set"
   ]
  },
  {
   "cell_type": "markdown",
   "id": "96851f11",
   "metadata": {
    "lines_to_next_cell": 2
   },
   "source": [
    "# Plot results"
   ]
  },
  {
   "cell_type": "code",
   "execution_count": 19,
   "id": "1e5384a6",
   "metadata": {},
   "outputs": [],
   "source": [
    "def train_and_test(\n",
    "    model,\n",
    "    train_matrix,\n",
    "    train_labels_matrix,\n",
    "    test_matrix,\n",
    "    test_labels_matrix,\n",
    "    epochs_num=700,\n",
    "):\n",
    "    loss_at_epochs = [model.test(train_matrix, train_labels_matrix)]\n",
    "    model.train(epochs_num, train_matrix, train_labels_matrix, loss_at_epochs)\n",
    "    print(model.test(train_matrix, train_labels_matrix))\n",
    "    print(model.test(test_matrix, test_labels_matrix))\n",
    "\n",
    "    plt.plot(range(len(loss_at_epochs)), loss_at_epochs, marker=\"o\", linewidth=0.0025)\n",
    "    plt.xlabel(\"Epoch\")\n",
    "    plt.ylabel(\"MSE loss\")\n",
    "    plt.title(\"Loss at epochs\")\n",
    "    plt.grid(True)\n",
    "    plt.show()"
   ]
  },
  {
   "cell_type": "markdown",
   "id": "af1e4184",
   "metadata": {},
   "source": [
    "# Ordinary model"
   ]
  },
  {
   "cell_type": "code",
   "execution_count": 20,
   "id": "1ae0be1d",
   "metadata": {},
   "outputs": [],
   "source": [
    "base_func = OrdinaryBaseFunc(train_matrix.shape[1], train_matrix.shape[0])\n",
    "loss_func = MSE(train_matrix.shape[0])\n",
    "\n",
    "model = Model(base_func, loss_func, 0.01)"
   ]
  },
  {
   "cell_type": "code",
   "execution_count": 21,
   "id": "afc973cb",
   "metadata": {
    "lines_to_next_cell": 0
   },
   "outputs": [
    {
     "name": "stdout",
     "output_type": "stream",
     "text": [
      "14781.870533147434\n",
      "5198.764271145052\n"
     ]
    },
    {
     "data": {
      "image/png": "[encoded data removed]",
      "text/plain": [
       "<Figure size 640x480 with 1 Axes>"
      ]
     },
     "metadata": {},
     "output_type": "display_data"
    }
   ],
   "source": [
    "train_and_test(\n",
    "    model,\n",
    "    train_matrix,\n",
    "    train_labels_matrix,\n",
    "    validation_matrix,\n",
    "    validation_labels_matrix,\n",
    ")"
   ]
  },
  {
   "cell_type": "markdown",
   "id": "04df9704",
   "metadata": {},
   "source": [
    "# Ordinary with L2 regularization"
   ]
  },
  {
   "cell_type": "code",
   "execution_count": 22,
   "id": "ab046786",
   "metadata": {},
   "outputs": [],
   "source": [
    "base_func_reg_L2 = OrdinaryBaseFunc(train_matrix.shape[1], train_matrix.shape[0])\n",
    "loss_func_reg_L2 = MSE(train_matrix.shape[0])\n",
    "\n",
    "\n",
    "model = Model(base_func_reg_L2, loss_func_reg_L2, 0.01, L2_regularization)"
   ]
  },
  {
   "cell_type": "code",
   "execution_count": 23,
   "id": "13a27ed6",
   "metadata": {},
   "outputs": [
    {
     "name": "stdout",
     "output_type": "stream",
     "text": [
      "14966.834194847705\n",
      "5250.285088797669\n"
     ]
    },
    {
     "data": {
      "image/png": "[encoded data removed]",
      "text/plain": [
       "<Figure size 640x480 with 1 Axes>"
      ]
     },
     "metadata": {},
     "output_type": "display_data"
    }
   ],
   "source": [
    "train_and_test(\n",
    "    model,\n",
    "    train_matrix,\n",
    "    train_labels_matrix,\n",
    "    validation_matrix,\n",
    "    validation_labels_matrix,\n",
    ")"
   ]
  },
  {
   "cell_type": "markdown",
   "id": "c4cad6e6",
   "metadata": {},
   "source": [
    "# Ordinary with L1 regularization"
   ]
  },
  {
   "cell_type": "code",
   "execution_count": 24,
   "id": "86d45758",
   "metadata": {},
   "outputs": [],
   "source": [
    "lambda_coefficient = 10\n",
    "base_func_reg_L1 = OrdinaryBaseFunc(train_matrix.shape[1], train_matrix.shape[0])\n",
    "loss_func_reg_L1 = MSE(train_matrix.shape[0])\n",
    "\n",
    "\n",
    "model = Model(base_func_reg_L1, loss_func_reg_L1, 0.01, L1_regularization)"
   ]
  },
  {
   "cell_type": "code",
   "execution_count": 25,
   "id": "c9c1b0b0",
   "metadata": {},
   "outputs": [
    {
     "name": "stdout",
     "output_type": "stream",
     "text": [
      "14969.192647672855\n",
      "5214.541730665011\n"
     ]
    },
    {
     "data": {
      "image/png": "[encoded data removed]",
      "text/plain": [
       "<Figure size 640x480 with 1 Axes>"
      ]
     },
     "metadata": {},
     "output_type": "display_data"
    }
   ],
   "source": [
    "train_and_test(\n",
    "    model,\n",
    "    train_matrix,\n",
    "    train_labels_matrix,\n",
    "    validation_matrix,\n",
    "    validation_labels_matrix,\n",
    ")"
   ]
  },
  {
   "cell_type": "markdown",
   "id": "443ea831",
   "metadata": {
    "lines_to_next_cell": 2
   },
   "source": [
    "# First Hypothesis"
   ]
  },
  {
   "cell_type": "code",
   "execution_count": 26,
   "id": "7566e141",
   "metadata": {},
   "outputs": [],
   "source": [
    "def test_hypothesis(\n",
    "    preprocess_matrix_func,\n",
    "    train_matrix,\n",
    "    train_labels_matrix,\n",
    "    validation_matrix,\n",
    "    validation_labels_matrix,\n",
    "    test_matrix,\n",
    "    test_labels_matrix,\n",
    "    epochs_num=700,\n",
    "    regularization_derivative=None,\n",
    "):\n",
    "    train_matrix_hyp = preprocess_matrix_func(train_matrix)\n",
    "    validation_matrix_hyp = preprocess_matrix_func(validation_matrix)\n",
    "    test_matrix_hyp = preprocess_matrix_func(test_matrix)\n",
    "    base_func_hyp = OrdinaryBaseFunc(\n",
    "        train_matrix_hyp.shape[1], train_matrix_hyp.shape[0]\n",
    "    )\n",
    "    loss_func_hyp = MSE(train_matrix_hyp.shape[0])\n",
    "    model = None\n",
    "    if regularization_derivative is None:\n",
    "        model = Model(base_func_hyp, loss_func_hyp, 0.01)\n",
    "    else:\n",
    "        model = Model(base_func_hyp, loss_func_hyp, 0.01, regularization_derivative)\n",
    "\n",
    "    train_and_test(\n",
    "        model,\n",
    "        train_matrix_hyp,\n",
    "        train_labels_matrix,\n",
    "        validation_matrix_hyp,\n",
    "        validation_labels_matrix,\n",
    "        epochs_num,\n",
    "    )\n",
    "\n",
    "    return model"
   ]
  },
  {
   "cell_type": "code",
   "execution_count": 27,
   "id": "ee97d2a3",
   "metadata": {},
   "outputs": [
    {
     "name": "stdout",
     "output_type": "stream",
     "text": [
      "607253.6419449107\n",
      "313508.40456213284\n"
     ]
    },
    {
     "data": {
      "image/png": "[encoded data removed]",
      "text/plain": [
       "<Figure size 640x480 with 1 Axes>"
      ]
     },
     "metadata": {},
     "output_type": "display_data"
    }
   ],
   "source": [
    "def preprocess_data_matrix_1(data_matrix):\n",
    "    answer = data_matrix[:, [0, 4]]\n",
    "    return answer\n",
    "\n",
    "\n",
    "test_hypothesis(\n",
    "    preprocess_data_matrix_1,\n",
    "    train_matrix,\n",
    "    train_labels_matrix,\n",
    "    validation_matrix,\n",
    "    validation_labels_matrix,\n",
    "    test_matrix,\n",
    "    test_labels_matrix,\n",
    ")"
   ]
  },
  {
   "cell_type": "markdown",
   "id": "7671311e",
   "metadata": {
    "lines_to_next_cell": 2
   },
   "source": [
    "# Second Hypothesis"
   ]
  },
  {
   "cell_type": "code",
   "execution_count": 28,
   "id": "5d159e44",
   "metadata": {
    "lines_to_next_cell": 2
   },
   "outputs": [
    {
     "name": "stdout",
     "output_type": "stream",
     "text": [
      "498306.6147606207\n",
      "259329.55812956978\n"
     ]
    },
    {
     "data": {
      "image/png": "[encoded data removed]",
      "text/plain": [
       "<Figure size 640x480 with 1 Axes>"
      ]
     },
     "metadata": {},
     "output_type": "display_data"
    }
   ],
   "source": [
    "def preprocess_data_matrix_2(data_matrix):\n",
    "    answer = data_matrix[:, [0, 4, 5]]\n",
    "    return answer\n",
    "\n",
    "\n",
    "test_hypothesis(\n",
    "    preprocess_data_matrix_2,\n",
    "    train_matrix,\n",
    "    train_labels_matrix,\n",
    "    validation_matrix,\n",
    "    validation_labels_matrix,\n",
    "    test_matrix,\n",
    "    test_labels_matrix,\n",
    ")"
   ]
  },
  {
   "cell_type": "markdown",
   "id": "a71431cb",
   "metadata": {
    "lines_to_next_cell": 2
   },
   "source": [
    "# Third Hypothesis"
   ]
  },
  {
   "cell_type": "code",
   "execution_count": 29,
   "id": "2687fd7d",
   "metadata": {},
   "outputs": [
    {
     "name": "stdout",
     "output_type": "stream",
     "text": [
      "498205.07397489983\n",
      "259385.1944063874\n"
     ]
    },
    {
     "data": {
      "image/png": "[encoded data removed]",
      "text/plain": [
       "<Figure size 640x480 with 1 Axes>"
      ]
     },
     "metadata": {},
     "output_type": "display_data"
    }
   ],
   "source": [
    "def preprocess_data_matrix_3(data_matrix):\n",
    "    answer = np.column_stack(\n",
    "        (\n",
    "            data_matrix[:, 0],\n",
    "            data_matrix[:, 3 + 1],\n",
    "            data_matrix[:, 4 + 1],\n",
    "            data_matrix[:, 3 + 1] * data_matrix[:, 4 + 1],\n",
    "        )\n",
    "    )\n",
    "    # print(answer.shape)\n",
    "    return answer\n",
    "\n",
    "\n",
    "test_hypothesis(\n",
    "    preprocess_data_matrix_3,\n",
    "    train_matrix,\n",
    "    train_labels_matrix,\n",
    "    validation_matrix,\n",
    "    validation_labels_matrix,\n",
    "    test_matrix,\n",
    "    test_labels_matrix,\n",
    "    1000,\n",
    ")"
   ]
  },
  {
   "cell_type": "code",
   "execution_count": null,
   "id": "64cabf3d",
   "metadata": {},
   "outputs": [],
   "source": [
    "def preprocess_data_matrix_4(data_matrix):\n",
    "    answer = np.column_stack(\n",
    "        (\n",
    "            data_matrix[:, 0],\n",
    "            data_matrix[:, 1],\n",
    "            data_matrix[:, 3 + 1],\n",
    "            data_matrix[:, 4 + 1],\n",
    "            data_matrix[:, 3 + 1] * data_matrix[:, 4 + 1],\n",
    "        )\n",
    "    )\n",
    "    # print(answer.shape)\n",
    "    return answer\n",
    "\n",
    "\n",
    "model = test_hypothesis(\n",
    "    preprocess_data_matrix_4,\n",
    "    train_matrix,\n",
    "    train_labels_matrix,\n",
    "    validation_matrix,\n",
    "    validation_labels_matrix,\n",
    "    test_matrix,\n",
    "    test_labels_matrix,\n",
    "    1000,\n",
    ")\n",
    "\n",
    "print(model.test(preprocess_data_matrix_4(test_matrix), test_labels_matrix))"
   ]
  },
  {
   "cell_type": "code",
   "execution_count": null,
   "id": "4cbb479b",
   "metadata": {
    "lines_to_next_cell": 0
   },
   "outputs": [],
   "source": [
    "def preprocess_data_matrix_5(data_matrix):\n",
    "    answer = np.column_stack(\n",
    "        (data_matrix[:, 0], data_matrix[:, 1], data_matrix[:, 4], data_matrix[:, 5])\n",
    "    )\n",
    "    # print(answer.shape)\n",
    "    return answer\n",
    "\n",
    "\n",
    "model = test_hypothesis(\n",
    "    preprocess_data_matrix_5,\n",
    "    train_matrix,\n",
    "    train_labels_matrix,\n",
    "    validation_matrix,\n",
    "    validation_labels_matrix,\n",
    "    test_matrix,\n",
    "    test_labels_matrix,\n",
    "    1000,\n",
    ")\n",
    "\n",
    "\n",
    "# print(model.test(preprocess_data_matrix_4(test_matrix), test_labels_matrix))"
   ]
  },
  {
   "cell_type": "code",
   "execution_count": null,
   "id": "d89e184d",
   "metadata": {},
   "outputs": [],
   "source": [
    "def preprocess_data_matrix_6(data_matrix):\n",
    "    answer = np.column_stack(\n",
    "        (\n",
    "            data_matrix[:, 0],\n",
    "            data_matrix[:, 1],\n",
    "            data_matrix[:, 5],\n",
    "            data_matrix[:, 4] * data_matrix[:, 5],\n",
    "        )\n",
    "    )\n",
    "    # print(answer.shape)\n",
    "    return answer\n",
    "\n",
    "\n",
    "model = test_hypothesis(\n",
    "    preprocess_data_matrix_6,\n",
    "    train_matrix,\n",
    "    train_labels_matrix,\n",
    "    validation_matrix,\n",
    "    validation_labels_matrix,\n",
    "    test_matrix,\n",
    "    test_labels_matrix,\n",
    "    1000,\n",
    ")"
   ]
  },
  {
   "cell_type": "code",
   "execution_count": null,
   "id": "9b099bc9",
   "metadata": {},
   "outputs": [],
   "source": [
    "def preprocess_data_matrix_7(data_matrix):\n",
    "    answer = np.column_stack(\n",
    "        (data_matrix[:, 0], data_matrix[:, 1], data_matrix[:, 4] * data_matrix[:, 5])\n",
    "    )\n",
    "    # print(answer.shape)\n",
    "    return answer\n",
    "\n",
    "\n",
    "model = test_hypothesis(\n",
    "    preprocess_data_matrix_7,\n",
    "    train_matrix,\n",
    "    train_labels_matrix,\n",
    "    validation_matrix,\n",
    "    validation_labels_matrix,\n",
    "    test_matrix,\n",
    "    test_labels_matrix,\n",
    "    1000,\n",
    ")"
   ]
  },
  {
   "cell_type": "code",
   "execution_count": null,
   "id": "45115ec1",
   "metadata": {},
   "outputs": [],
   "source": [
    "def preprocess_data_matrix_8(data_matrix):\n",
    "    answer = np.column_stack((data_matrix[:, 0], data_matrix[:, 4] * data_matrix[:, 5]))\n",
    "    # print(answer.shape)\n",
    "    return answer\n",
    "\n",
    "\n",
    "model = test_hypothesis(\n",
    "    preprocess_data_matrix_8,\n",
    "    train_matrix,\n",
    "    train_labels_matrix,\n",
    "    validation_matrix,\n",
    "    validation_labels_matrix,\n",
    "    test_matrix,\n",
    "    test_labels_matrix,\n",
    "    1000,\n",
    ")"
   ]
  },
  {
   "cell_type": "markdown",
   "id": "9a4d9205",
   "metadata": {},
   "source": [
    "# Best hyphothesis with regularization"
   ]
  },
  {
   "cell_type": "code",
   "execution_count": null,
   "id": "bcab3712",
   "metadata": {
    "lines_to_next_cell": 2
   },
   "outputs": [],
   "source": [
    "model = test_hypothesis(\n",
    "    preprocess_data_matrix_4,\n",
    "    train_matrix,\n",
    "    train_labels_matrix,\n",
    "    validation_matrix,\n",
    "    validation_labels_matrix,\n",
    "    test_matrix,\n",
    "    test_labels_matrix,\n",
    "    1000,\n",
    "    L1_regularization,\n",
    ")\n",
    "\n",
    "print(model.test(preprocess_data_matrix_4(test_matrix), test_labels_matrix), end=\"\\n\\n\")\n",
    "\n",
    "model = test_hypothesis(\n",
    "    preprocess_data_matrix_4,\n",
    "    train_matrix,\n",
    "    train_labels_matrix,\n",
    "    validation_matrix,\n",
    "    validation_labels_matrix,\n",
    "    test_matrix,\n",
    "    test_labels_matrix,\n",
    "    1000,\n",
    "    L2_regularization,\n",
    ")\n",
    "\n",
    "print(model.test(preprocess_data_matrix_4(test_matrix), test_labels_matrix))"
   ]
  },
  {
   "cell_type": "markdown",
   "id": "7d4a0686",
   "metadata": {
    "lines_to_next_cell": 0
   },
   "source": [
    "# Adding parameters to best hyphothesis"
   ]
  },
  {
   "cell_type": "code",
   "execution_count": null,
   "id": "f8a6577b",
   "metadata": {},
   "outputs": [],
   "source": [
    "threshold = 1e-8\n",
    "\n",
    "\n",
    "def preprocess_data_matrix_9(data_matrix):\n",
    "    answer = np.column_stack(\n",
    "        (\n",
    "            data_matrix[:, 0],\n",
    "            data_matrix[:, 1],\n",
    "            # data_matrix[:, 1] ** 2,\n",
    "            # data_matrix[:, 1] ** 3,\n",
    "            # data_matrix[:, 2],\n",
    "            # data_matrix[:, 3],\n",
    "            # data_matrix[:, 6],\n",
    "            # data_matrix[:, 7],\n",
    "            data_matrix[:, 4],\n",
    "            data_matrix[:, 4] ** 2,\n",
    "            data_matrix[:, 4] ** 3,\n",
    "            data_matrix[:, 4] ** 4,\n",
    "            data_matrix[:, 4] ** 5,\n",
    "            data_matrix[:, 4] ** 6,\n",
    "            # data_matrix[:, 4] ** 7,\n",
    "            np.where(data_matrix[:, 4] ** 7 < threshold, 0, data_matrix[:, 4] ** 7),\n",
    "            # np.where(data_matrix[:, 4] ** 8 < threshold, 0, data_matrix[:, 4] ** 8),\n",
    "            data_matrix[:, 5],\n",
    "            # data_matrix[:, 5] ** 2,\n",
    "            # data_matrix[:, 5] ** 3,\n",
    "            data_matrix[:, 4] * data_matrix[:, 5],\n",
    "            # data_matrix[:, 1] * data_matrix[:, 5]\n",
    "            # data_matrix[:, 4] * data_matrix[:, 1]\n",
    "            # data_matrix[:, 4] * data_matrix[:, 5] * data_matrix[:, 0]\n",
    "        )\n",
    "    )\n",
    "    # print(answer.shape)\n",
    "    return answer\n",
    "\n",
    "\n",
    "model = test_hypothesis(\n",
    "    preprocess_data_matrix_9,\n",
    "    train_matrix,\n",
    "    train_labels_matrix,\n",
    "    validation_matrix,\n",
    "    validation_labels_matrix,\n",
    "    test_matrix,\n",
    "    test_labels_matrix,\n",
    "    1000,\n",
    "    # L1_regularization,\n",
    ")"
   ]
  },
  {
   "cell_type": "markdown",
   "id": "ec9a2cde",
   "metadata": {
    "lines_to_next_cell": 0
   },
   "source": [
    "# Korekta błędu myślowego"
   ]
  },
  {
   "cell_type": "code",
   "execution_count": null,
   "id": "ca98b3a7",
   "metadata": {},
   "outputs": [],
   "source": [
    "def new_test_hypothesis(\n",
    "    preprocess_data_func,\n",
    "    train_data,\n",
    "    train_labels,\n",
    "    validation_data,\n",
    "    validation_labels,\n",
    "    epochs_num=700,\n",
    "    regularization_derivative=None,\n",
    "):\n",
    "    train_matrix_hyp = preprocess_data_func(train_data)\n",
    "    validation_matrix_hyp = preprocess_data_func(validation_data)\n",
    "    base_func_hyp = OrdinaryBaseFunc(\n",
    "        train_matrix_hyp.shape[1], train_matrix_hyp.shape[0]\n",
    "    )\n",
    "    loss_func_hyp = MSE(train_matrix_hyp.shape[0])\n",
    "    model = None\n",
    "    if regularization_derivative is None:\n",
    "        model = Model(base_func_hyp, loss_func_hyp, 0.01)\n",
    "    else:\n",
    "        model = Model(base_func_hyp, loss_func_hyp, 0.01, regularization_derivative)\n",
    "\n",
    "    train_labels_matrix = train_labels.to_numpy()\n",
    "    validation_labels = validation_labels.to_numpy()\n",
    "    train_and_test(\n",
    "        model,\n",
    "        train_matrix_hyp,\n",
    "        train_labels_matrix,\n",
    "        validation_matrix_hyp,\n",
    "        validation_labels_matrix,\n",
    "        epochs_num,\n",
    "    )\n",
    "\n",
    "    return model"
   ]
  },
  {
   "cell_type": "code",
   "execution_count": null,
   "id": "b3e13f07",
   "metadata": {},
   "outputs": [],
   "source": [
    "# def preprocess_data_best_model(data_df: pd.DataFrame):\n",
    "def preprocess_data_best_model(data_df):\n",
    "    data_copy = data_df.copy()\n",
    "    columns = pd.DataFrame()\n",
    "    columns[0] = data_copy[0]\n",
    "    columns[3] = data_copy[3]\n",
    "    columns[4] = data_copy[4]\n",
    "    columns[\"[3]*[4]\"] = data_copy.iloc[:, 3] * data_copy.iloc[:, 4]\n",
    "    powers = range(2, 200)\n",
    "\n",
    "    # base_col = data_copy.iloc[:, 0]\n",
    "    # temp = pd.DataFrame({f\"[0]^{i}\": base_col**i for i in powers})\n",
    "    # columns = pd.concat([columns, temp], axis=1)\n",
    "\n",
    "    base_col = data_copy.iloc[:, 3]\n",
    "    temp = pd.DataFrame({f\"[3]^{i}\": base_col**i for i in powers})\n",
    "    columns = pd.concat([columns, temp], axis=1)\n",
    "\n",
    "    # base_col = data_copy.iloc[:, 4]\n",
    "    # temp = pd.DataFrame({f\"[4]^{i}\": base_col**i for i in powers})\n",
    "    # columns = pd.concat([columns, temp], axis=1)\n",
    "\n",
    "    assert len(columns.T) > 200, \"Columns were not added\"\n",
    "    return standarize_matrix_and_add_ones(columns.to_numpy())\n",
    "\n",
    "\n",
    "model = new_test_hypothesis(\n",
    "    preprocess_data_best_model,\n",
    "    train_set,\n",
    "    train_labels,\n",
    "    validation_set,\n",
    "    validation_labels,\n",
    ")\n",
    "\n",
    "\n",
    "test_matrix = preprocess_data_best_model(test_set)\n",
    "print(model.test(test_matrix, test_labels.to_numpy()))"
   ]
  },
  {
   "cell_type": "markdown",
   "id": "97a69063",
   "metadata": {
    "lines_to_next_cell": 0
   },
   "source": [
    "# Experiments"
   ]
  },
  {
   "cell_type": "code",
   "execution_count": null,
   "id": "118d814c",
   "metadata": {},
   "outputs": [],
   "source": [
    "def ultimate_test_hypothesis(\n",
    "    preprocess_data_func,\n",
    "    train_data,\n",
    "    train_labels,\n",
    "    validation_data,\n",
    "    validation_labels,\n",
    "    model,\n",
    "    epochs_num=700,\n",
    "):\n",
    "    train_matrix_hyp = preprocess_data_func(train_data)\n",
    "    validation_matrix_hyp = preprocess_data_func(validation_data)\n",
    "\n",
    "    train_labels_matrix = train_labels.to_numpy()\n",
    "    validation_labels = validation_labels.to_numpy()\n",
    "    train_and_test(\n",
    "        model,\n",
    "        train_matrix_hyp,\n",
    "        train_labels_matrix,\n",
    "        validation_matrix_hyp,\n",
    "        validation_labels_matrix,\n",
    "        epochs_num,\n",
    "    )\n",
    "\n",
    "    return model"
   ]
  },
  {
   "cell_type": "code",
   "execution_count": 150,
   "id": "5ab975c4",
   "metadata": {},
   "outputs": [
    {
     "name": "stdout",
     "output_type": "stream",
     "text": [
      "5439.79421525935\n",
      "2775.133759814177\n"
     ]
    },
    {
     "data": {
      "image/png": "[encoded data removed]",
      "text/plain": [
       "<Figure size 640x480 with 1 Axes>"
      ]
     },
     "metadata": {},
     "output_type": "display_data"
    },
    {
     "name": "stdout",
     "output_type": "stream",
     "text": [
      "2019.7296454912134\n"
     ]
    }
   ],
   "source": [
    "def preprocess_data_exponent3(data_df):\n",
    "    data_copy = data_df.copy()\n",
    "    columns = pd.DataFrame()\n",
    "    columns[0] = data_copy[0]\n",
    "    columns[3] = data_copy[3]\n",
    "    columns[4] = data_copy[4]\n",
    "\n",
    "    prod_of34 = data_copy.iloc[:, 3] * data_copy.iloc[:, 4]\n",
    "    # prod_of34 = np.array(data_copy.iloc[:, 3] * data_copy.iloc[:, 4]).astype(np.float64)\n",
    "    # prod_of34[prod_of34 == 0] = 1e-9\n",
    "    powers = [1, 2]\n",
    "    temp = pd.DataFrame({f\"([3]*[4])**{i}\": np.pow(prod_of34, i) for i in powers})\n",
    "    columns = pd.concat([columns, temp], axis=1)\n",
    "\n",
    "    base_col = data_copy.iloc[:, 3]\n",
    "\n",
    "    # powers = [0.5, 0.25, 0.05]\n",
    "    powers = []\n",
    "    powers += range(1, 10)\n",
    "    powers += range(20, 24)\n",
    "    # powers += range(60, 68)\n",
    "    mean_3 = np.mean(base_col.to_numpy())\n",
    "    temp = pd.DataFrame(\n",
    "        {\n",
    "            f\"exp -([3]-mean[3])^2/{s}^2\": np.exp(-((base_col - mean_3) ** 2) / (s**2))\n",
    "            for s in powers\n",
    "        }\n",
    "    )\n",
    "    columns = pd.concat([columns, temp], axis=1)\n",
    "    # print(mean_3)\n",
    "\n",
    "    # powers = []\n",
    "    # powers += range(1, 100)\n",
    "    # mean_of_prod34 = np.mean(prod_of34.to_numpy())\n",
    "    # temp = pd.DataFrame(\n",
    "    #     {\n",
    "    #         f\"exp -([3]-mean[3])^2/{s}^2\": np.exp(\n",
    "    #             -((prod_of34 - mean_of_prod34) ** 2) / (s**2)\n",
    "    #         )\n",
    "    #         for s in powers\n",
    "    #     }\n",
    "    # )\n",
    "    # columns = pd.concat([columns, temp], axis=1)\n",
    "\n",
    "    # powers = []\n",
    "    # powers += range(1, 100)\n",
    "    # mean_of_4 = np.mean(data_copy.iloc[:, 4])\n",
    "    # temp = pd.DataFrame(\n",
    "    #     {\n",
    "    #         f\"exp -([3]-mean[3])^2/{s}^2\": np.exp(\n",
    "    #             -((data_copy.iloc[:, 4] - mean_of_4) ** 2) / (s**2)\n",
    "    #         )\n",
    "    #         for s in powers\n",
    "    #     }\n",
    "    # )\n",
    "    # columns = pd.concat([columns, temp], axis=1)\n",
    "\n",
    "    # print(mean_3)\n",
    "    return standarize_matrix_and_add_ones(columns.to_numpy())\n",
    "\n",
    "\n",
    "model = new_test_hypothesis(\n",
    "    preprocess_data_exponent3,\n",
    "    train_set,\n",
    "    train_labels,\n",
    "    validation_set,\n",
    "    validation_labels,\n",
    "    700,\n",
    "    # L1_regularization,\n",
    ")\n",
    "\n",
    "test_matrix = preprocess_data_exponent3(test_set)\n",
    "print(model.test(test_matrix, test_labels.to_numpy()))"
   ]
  }
 ],
 "metadata": {
  "jupytext": {
   "formats": "ipynb,py:percent"
  },
  "kernelspec": {
   "display_name": "Python 3 (ipykernel)",
   "language": "python",
   "name": "python3"
  },
  "language_info": {
   "codemirror_mode": {
    "name": "ipython",
    "version": 3
   },
   "file_extension": ".py",
   "mimetype": "text/x-python",
   "name": "python",
   "nbconvert_exporter": "python",
   "pygments_lexer": "ipython3",
   "version": "3.13.2"
  }
 },
 "nbformat": 4,
 "nbformat_minor": 5
}
