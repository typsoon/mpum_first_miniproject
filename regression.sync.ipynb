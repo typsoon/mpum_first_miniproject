{
 "cells": [
  {
   "cell_type": "code",
   "execution_count": 1,
   "id": "b1faf22a",
   "metadata": {
    "lines_to_next_cell": 2
   },
   "outputs": [],
   "source": [
    "from abc import abstractmethod\n",
    "import numpy as np\n",
    "import pandas as pd\n",
    "from sklearn.model_selection import train_test_split\n",
    "import matplotlib.pyplot as plt\n",
    "\n",
    "%matplotlib inline"
   ]
  },
  {
   "cell_type": "code",
   "execution_count": 2,
   "id": "e84b37b8",
   "metadata": {},
   "outputs": [],
   "source": [
    "class BaseFunc:\n",
    "    @abstractmethod\n",
    "    def predict(self, data):\n",
    "        pass\n",
    "\n",
    "    @abstractmethod\n",
    "    def derivative(self, data):\n",
    "        pass\n",
    "\n",
    "    def parameters(self):\n",
    "        return self._parameters\n",
    "\n",
    "    def update_parameters(self, new_parameters):\n",
    "        self._parameters = new_parameters"
   ]
  },
  {
   "cell_type": "code",
   "execution_count": 3,
   "id": "635c70ff",
   "metadata": {},
   "outputs": [],
   "source": [
    "class LossFunc:\n",
    "    @abstractmethod\n",
    "    def loss_value(self, prediction, ground_trouth):\n",
    "        pass\n",
    "\n",
    "    @abstractmethod\n",
    "    def loss_derivative(self, prediction, ground_trouth, parameters=None):\n",
    "        pass"
   ]
  },
  {
   "cell_type": "code",
   "execution_count": 4,
   "id": "33d76009",
   "metadata": {
    "lines_to_next_cell": 2
   },
   "outputs": [],
   "source": [
    "class Model:\n",
    "    def __init__(\n",
    "        self,\n",
    "        base_func: BaseFunc,\n",
    "        loss_func: LossFunc,\n",
    "        learning_rate,\n",
    "        regularization_derivative=lambda x: np.zeros(x.shape),\n",
    "    ) -> None:\n",
    "        self.base_func = base_func\n",
    "        self.loss_func = loss_func\n",
    "        self.learning_rate = learning_rate\n",
    "        self.regularization_derivative = regularization_derivative\n",
    "\n",
    "    def train(self, epochs_num, data, labels, loss_at_epoch=None):\n",
    "        for i in range(epochs_num):\n",
    "            prediction = self.base_func.predict(data)\n",
    "\n",
    "            reg_derivative = self.regularization_derivative(base_func.parameters())\n",
    "            # print(reg_derivative.shape)\n",
    "            gradient = (\n",
    "                self.base_func.derivative(data).T\n",
    "                @ self.loss_func.loss_derivative(prediction, labels)\n",
    "                + reg_derivative\n",
    "            )\n",
    "            # print(gradient.shape)\n",
    "\n",
    "            new_parameters = self.base_func.parameters() - self.learning_rate * gradient\n",
    "\n",
    "            self.base_func.update_parameters(new_parameters)\n",
    "\n",
    "            if loss_at_epoch is not None:\n",
    "                loss_at_epoch.append(self.test(data, labels))\n",
    "\n",
    "            # if (i % 10) == 0:\n",
    "            #     self.learning_rate *= 0.99\n",
    "\n",
    "    def test(self, data, labels):\n",
    "        prediction = self.base_func.predict(data)\n",
    "        return self.loss_func.loss_value(prediction, labels)"
   ]
  },
  {
   "cell_type": "markdown",
   "id": "90a767a2",
   "metadata": {
    "lines_to_next_cell": 2
   },
   "source": [
    "# Concrete implementations"
   ]
  },
  {
   "cell_type": "code",
   "execution_count": 5,
   "id": "343341de",
   "metadata": {},
   "outputs": [],
   "source": [
    "class OrdinaryBaseFunc(BaseFunc):\n",
    "    def __init__(self, degree, number_of_inputs) -> None:\n",
    "        self._parameters = np.random.randn(degree)\n",
    "\n",
    "    def predict(self, data):\n",
    "        # temp = data @ self._parameters\n",
    "        # print(temp.shape)\n",
    "        return data @ self._parameters\n",
    "\n",
    "    def derivative(self, data):\n",
    "        return data"
   ]
  },
  {
   "cell_type": "code",
   "execution_count": 6,
   "id": "567885e6",
   "metadata": {},
   "outputs": [],
   "source": [
    "class MSE(LossFunc):\n",
    "    def loss_value(self, prediction, ground_trouth):\n",
    "        return (\n",
    "            (1 / (2 * self.number_of_inputs))\n",
    "            * (ground_trouth - prediction).T\n",
    "            @ (ground_trouth - prediction)\n",
    "        )\n",
    "\n",
    "    def loss_derivative(self, prediction, ground_trouth, parameters=None):\n",
    "        return 1 / self.number_of_inputs * (prediction - ground_trouth)\n",
    "\n",
    "    def __init__(self, number_of_inputs) -> None:\n",
    "        self.number_of_inputs = number_of_inputs"
   ]
  },
  {
   "cell_type": "code",
   "execution_count": 7,
   "id": "95c9e137",
   "metadata": {},
   "outputs": [],
   "source": [
    "lambda_coefficient = 0.02\n",
    "\n",
    "\n",
    "def L2_regularization(parameters):\n",
    "    temp_parameters = np.array(parameters)\n",
    "    temp_parameters[0] = 0\n",
    "    return lambda_coefficient * 2 * temp_parameters.T\n",
    "\n",
    "\n",
    "def L1_regularization(parameters):\n",
    "    temp_parameters = np.array(parameters)\n",
    "    temp_parameters[0] = 0\n",
    "    return lambda_coefficient * np.sign(temp_parameters)"
   ]
  },
  {
   "cell_type": "markdown",
   "id": "ca2334ff",
   "metadata": {},
   "source": [
    "# Load and display data"
   ]
  },
  {
   "cell_type": "code",
   "execution_count": 8,
   "id": "4cf9d345",
   "metadata": {},
   "outputs": [],
   "source": [
    "df = pd.read_csv(\"dane.data\", delimiter=r\"\\s+\", header=None, decimal=\",\")"
   ]
  },
  {
   "cell_type": "code",
   "execution_count": 9,
   "id": "19727d54",
   "metadata": {
    "lines_to_next_cell": 0
   },
   "outputs": [],
   "source": [
    "def divide_data(data, train_ratio):\n",
    "    # return train_test_split(data, train_size=train_ratio,  random_state=42)\n",
    "    return train_test_split(data, train_size=train_ratio, random_state=6)\n",
    "    # return train_test_split(data, train_size=train_ratio, stratify=housing[\"median_house_value\"], random_state=8)\n",
    "\n",
    "\n",
    "train_set, test_set = divide_data(df, 1 - 0.18)"
   ]
  },
  {
   "cell_type": "code",
   "execution_count": 10,
   "id": "84bf0d71",
   "metadata": {},
   "outputs": [
    {
     "data": {
      "text/html": [
       "<div>\n",
       "<style scoped>\n",
       "    .dataframe tbody tr th:only-of-type {\n",
       "        vertical-align: middle;\n",
       "    }\n",
       "\n",
       "    .dataframe tbody tr th {\n",
       "        vertical-align: top;\n",
       "    }\n",
       "\n",
       "    .dataframe thead th {\n",
       "        text-align: right;\n",
       "    }\n",
       "</style>\n",
       "<table border=\"1\" class=\"dataframe\">\n",
       "  <thead>\n",
       "    <tr style=\"text-align: right;\">\n",
       "      <th></th>\n",
       "      <th>0</th>\n",
       "      <th>1</th>\n",
       "      <th>2</th>\n",
       "      <th>3</th>\n",
       "      <th>4</th>\n",
       "      <th>5</th>\n",
       "      <th>6</th>\n",
       "    </tr>\n",
       "  </thead>\n",
       "  <tbody>\n",
       "    <tr>\n",
       "      <th>605</th>\n",
       "      <td>-4</td>\n",
       "      <td>3</td>\n",
       "      <td>4</td>\n",
       "      <td>-1</td>\n",
       "      <td>36</td>\n",
       "      <td>-3</td>\n",
       "      <td>5</td>\n",
       "    </tr>\n",
       "    <tr>\n",
       "      <th>970</th>\n",
       "      <td>-1</td>\n",
       "      <td>3</td>\n",
       "      <td>7</td>\n",
       "      <td>29</td>\n",
       "      <td>46</td>\n",
       "      <td>-1</td>\n",
       "      <td>5</td>\n",
       "    </tr>\n",
       "    <tr>\n",
       "      <th>52</th>\n",
       "      <td>-10</td>\n",
       "      <td>-3</td>\n",
       "      <td>4</td>\n",
       "      <td>32</td>\n",
       "      <td>40</td>\n",
       "      <td>1</td>\n",
       "      <td>17</td>\n",
       "    </tr>\n",
       "    <tr>\n",
       "      <th>1388</th>\n",
       "      <td>3</td>\n",
       "      <td>-4</td>\n",
       "      <td>7</td>\n",
       "      <td>36</td>\n",
       "      <td>57</td>\n",
       "      <td>1</td>\n",
       "      <td>19</td>\n",
       "    </tr>\n",
       "    <tr>\n",
       "      <th>804</th>\n",
       "      <td>-2</td>\n",
       "      <td>-4</td>\n",
       "      <td>4</td>\n",
       "      <td>11</td>\n",
       "      <td>41</td>\n",
       "      <td>1</td>\n",
       "      <td>19</td>\n",
       "    </tr>\n",
       "  </tbody>\n",
       "</table>\n",
       "</div>"
      ],
      "text/plain": [
       "       0  1  2   3   4  5   6\n",
       "605   -4  3  4  -1  36 -3   5\n",
       "970   -1  3  7  29  46 -1   5\n",
       "52   -10 -3  4  32  40  1  17\n",
       "1388   3 -4  7  36  57  1  19\n",
       "804   -2 -4  4  11  41  1  19"
      ]
     },
     "execution_count": 10,
     "metadata": {},
     "output_type": "execute_result"
    }
   ],
   "source": [
    "train_labels = train_set.pop(train_set.columns[7])\n",
    "test_labels = test_set.pop(test_set.columns[7])\n",
    "# train_set.insert(0, \"Ones\", 1)\n",
    "train_set.head()"
   ]
  },
  {
   "cell_type": "code",
   "execution_count": 11,
   "id": "f6b9beb9",
   "metadata": {},
   "outputs": [
    {
     "data": {
      "text/plain": [
       "605      351.70\n",
       "970     1263.63\n",
       "52      1111.20\n",
       "1388    2326.30\n",
       "804      566.89\n",
       "Name: 7, dtype: float64"
      ]
     },
     "execution_count": 11,
     "metadata": {},
     "output_type": "execute_result"
    }
   ],
   "source": [
    "train_labels.head()"
   ]
  },
  {
   "cell_type": "code",
   "execution_count": 12,
   "id": "dfec1c3f",
   "metadata": {},
   "outputs": [],
   "source": [
    "def preprocess_data(data_matrix):\n",
    "    mean = np.mean(data_matrix, axis=0)\n",
    "    std = np.std(data_matrix, axis=0)\n",
    "    std[std == 0] = 1\n",
    "\n",
    "    standarized = (data_matrix - mean) / std\n",
    "    return np.c_[np.ones(standarized.shape[0]), standarized]"
   ]
  },
  {
   "cell_type": "code",
   "execution_count": 13,
   "id": "c406e79d",
   "metadata": {},
   "outputs": [
    {
     "name": "stdout",
     "output_type": "stream",
     "text": [
      "[[ 1.         -0.61513583  1.24353399 -0.30642849 -1.59029659 -1.00603221\n",
      "  -1.40669709 -1.24353399]\n",
      " [ 1.         -0.09490486  1.24353399  1.43744753  0.90022427  0.15335943\n",
      "   0.00473635 -1.24353399]\n",
      " [ 1.         -1.65559777 -0.85009951 -0.30642849  1.14927635 -0.54227555\n",
      "   1.41616979  0.85009951]\n",
      " [ 1.          0.59873644 -1.19903842  1.43744753  1.4813458   1.42869023\n",
      "   1.41616979  1.19903842]\n",
      " [ 1.         -0.26831518 -1.19903842 -0.30642849 -0.59408825 -0.42633639\n",
      "   1.41616979  1.19903842]\n",
      " [ 1.         -0.09490486 -0.85009951 -1.4690125  -1.3412445   1.08087274\n",
      "  -0.70098037  0.85009951]]\n",
      "(1639, 8)\n",
      "(1639,)\n"
     ]
    }
   ],
   "source": [
    "train_matrix = train_set.to_numpy()\n",
    "train_labels_matrix = train_labels.to_numpy()\n",
    "\n",
    "train_matrix = preprocess_data(train_matrix)\n",
    "\n",
    "print(train_matrix[:6])\n",
    "print(train_matrix.shape)\n",
    "print(train_labels_matrix.shape)"
   ]
  },
  {
   "cell_type": "code",
   "execution_count": 14,
   "id": "dd3f7e74",
   "metadata": {},
   "outputs": [
    {
     "name": "stdout",
     "output_type": "stream",
     "text": [
      "(360, 8) (360,)\n"
     ]
    }
   ],
   "source": [
    "test_matrix = test_set.to_numpy()\n",
    "test_matrix = preprocess_data(test_matrix)\n",
    "\n",
    "test_labels_matrix = test_labels.to_numpy()\n",
    "print(test_matrix.shape, test_labels_matrix.shape)\n",
    "\n",
    "# test_set"
   ]
  },
  {
   "cell_type": "markdown",
   "id": "96851f11",
   "metadata": {},
   "source": [
    "# Plot results"
   ]
  },
  {
   "cell_type": "code",
   "execution_count": 15,
   "id": "1e5384a6",
   "metadata": {},
   "outputs": [],
   "source": [
    "\n",
    "\n",
    "def train_and_test(\n",
    "    model, train_matrix, train_labels_matrix, test_matrix, test_labels_matrix\n",
    "):\n",
    "    loss_at_epochs = [model.test(train_matrix, train_labels_matrix)]\n",
    "    model.train(700, train_matrix, train_labels_matrix, loss_at_epochs)\n",
    "    print(model.test(train_matrix, train_labels_matrix))\n",
    "    print(model.test(test_matrix, test_labels_matrix))\n",
    "\n",
    "    plt.plot(range(len(loss_at_epochs)), loss_at_epochs, marker=\"o\", linewidth=0.0025)\n",
    "    plt.xlabel(\"Epoch\")\n",
    "    plt.ylabel(\"MSE loss\")\n",
    "    plt.title(\"Loss at epochs\")\n",
    "    plt.grid(True)\n",
    "    plt.show()"
   ]
  },
  {
   "cell_type": "markdown",
   "id": "af1e4184",
   "metadata": {},
   "source": [
    "# Ordinary model"
   ]
  },
  {
   "cell_type": "code",
   "execution_count": 16,
   "id": "1ae0be1d",
   "metadata": {},
   "outputs": [],
   "source": [
    "base_func = OrdinaryBaseFunc(train_matrix.shape[1], train_matrix.shape[0])\n",
    "loss_func = MSE(train_matrix.shape[0])\n",
    "\n",
    "model = Model(base_func, loss_func, 0.01)"
   ]
  },
  {
   "cell_type": "code",
   "execution_count": 17,
   "id": "afc973cb",
   "metadata": {
    "lines_to_next_cell": 0
   },
   "outputs": [
    {
     "name": "stdout",
     "output_type": "stream",
     "text": [
      "14811.028243905203\n",
      "2944.296825435993\n"
     ]
    },
    {
     "data": {
      "image/png": "[encoded data removed]",
      "text/plain": [
       "<Figure size 640x480 with 1 Axes>"
      ]
     },
     "metadata": {},
     "output_type": "display_data"
    }
   ],
   "source": [
    "train_and_test(\n",
    "    model, train_matrix, train_labels_matrix, test_matrix, test_labels_matrix\n",
    ")"
   ]
  },
  {
   "cell_type": "markdown",
   "id": "04df9704",
   "metadata": {},
   "source": [
    "# Ordinary with L2 regularization"
   ]
  },
  {
   "cell_type": "code",
   "execution_count": 18,
   "id": "ab046786",
   "metadata": {},
   "outputs": [],
   "source": [
    "base_func_reg_L2 = OrdinaryBaseFunc(train_matrix.shape[1], train_matrix.shape[0])\n",
    "loss_func_reg_L2 = MSE(train_matrix.shape[0])\n",
    "\n",
    "\n",
    "model = Model(base_func_reg_L2, loss_func_reg_L2, 0.01, L2_regularization)"
   ]
  },
  {
   "cell_type": "code",
   "execution_count": 19,
   "id": "cf242ad2",
   "metadata": {},
   "outputs": [
    {
     "name": "stdout",
     "output_type": "stream",
     "text": [
      "15022.537674156792\n",
      "2899.9875540335447\n"
     ]
    },
    {
     "data": {
      "image/png": "[encoded data removed]",
      "text/plain": [
       "<Figure size 640x480 with 1 Axes>"
      ]
     },
     "metadata": {},
     "output_type": "display_data"
    }
   ],
   "source": [
    "train_and_test(\n",
    "    model, train_matrix, train_labels_matrix, test_matrix, test_labels_matrix\n",
    ")\n",
    "# &&\n",
    "base_func_reg_L1 = OrdinaryBaseFunc(train_matrix.shape[1], train_matrix.shape[0])\n",
    "loss_func_reg_L1 = MSE(train_matrix.shape[0])\n",
    "\n",
    "\n",
    "model = Model(base_func_reg_L1, loss_func_reg_L1, 0.01, L1_regularization)"
   ]
  },
  {
   "cell_type": "code",
   "execution_count": 20,
   "id": "13a27ed6",
   "metadata": {},
   "outputs": [
    {
     "name": "stdout",
     "output_type": "stream",
     "text": [
      "14811.040962730576\n",
      "2944.0794049873307\n"
     ]
    },
    {
     "data": {
      "image/png": "[encoded data removed]",
      "text/plain": [
       "<Figure size 640x480 with 1 Axes>"
      ]
     },
     "metadata": {},
     "output_type": "display_data"
    }
   ],
   "source": [
    "train_and_test(\n",
    "    model, train_matrix, train_labels_matrix, test_matrix, test_labels_matrix\n",
    ")"
   ]
  }
 ],
 "metadata": {
  "jupytext": {
   "formats": "ipynb,py:percent"
  },
  "kernelspec": {
   "display_name": "Python 3 (ipykernel)",
   "language": "python",
   "name": "python3"
  },
  "language_info": {
   "codemirror_mode": {
    "name": "ipython",
    "version": 3
   },
   "file_extension": ".py",
   "mimetype": "text/x-python",
   "name": "python",
   "nbconvert_exporter": "python",
   "pygments_lexer": "ipython3",
   "version": "3.13.2"
  }
 },
 "nbformat": 4,
 "nbformat_minor": 5
}
