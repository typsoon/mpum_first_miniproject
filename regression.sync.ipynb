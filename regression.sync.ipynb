{
 "cells": [
  {
   "cell_type": "code",
   "execution_count": 1,
   "id": "b1faf22a",
   "metadata": {
    "lines_to_next_cell": 2
   },
   "outputs": [],
   "source": [
    "from abc import abstractmethod\n",
    "import numpy as np\n",
    "import pandas as pd\n",
    "from sklearn.model_selection import train_test_split\n",
    "\n",
    "%matplotlib inline"
   ]
  },
  {
   "cell_type": "code",
   "execution_count": 2,
   "id": "e84b37b8",
   "metadata": {},
   "outputs": [],
   "source": [
    "class BaseFunc:\n",
    "    @abstractmethod\n",
    "    def predict(self, data):\n",
    "        pass\n",
    "\n",
    "    @abstractmethod\n",
    "    def derivative(self, data):\n",
    "        pass\n",
    "\n",
    "    def parameters(self):\n",
    "        return self._parameters\n",
    "\n",
    "    def update_parameters(self, new_parameters):\n",
    "        self._parameters = new_parameters"
   ]
  },
  {
   "cell_type": "code",
   "execution_count": 3,
   "id": "635c70ff",
   "metadata": {},
   "outputs": [],
   "source": [
    "class LossFunc:\n",
    "    @abstractmethod\n",
    "    def loss_value(self, prediction, ground_trouth):\n",
    "        pass\n",
    "\n",
    "    @abstractmethod\n",
    "    def loss_derivative(self, prediction, ground_trouth):\n",
    "        pass"
   ]
  },
  {
   "cell_type": "code",
   "execution_count": 4,
   "id": "33d76009",
   "metadata": {
    "lines_to_next_cell": 2
   },
   "outputs": [],
   "source": [
    "class Model:\n",
    "    def __init__(self, base_func: BaseFunc, loss_func: LossFunc, learning_rate) -> None:\n",
    "        self.base_func = base_func\n",
    "        self.loss_func = loss_func\n",
    "        self.learning_rate = learning_rate\n",
    "\n",
    "    def train(self, epochs_num, data, labels):\n",
    "        for _ in range(epochs_num):\n",
    "            prediction = self.base_func.predict(data)\n",
    "\n",
    "            gradient = self.base_func.derivative(\n",
    "                data\n",
    "            ).T @ self.loss_func.loss_derivative(prediction, labels)\n",
    "\n",
    "            new_parameters = self.base_func.parameters() - self.learning_rate * gradient\n",
    "\n",
    "            print(new_parameters)\n",
    "\n",
    "            self.base_func.update_parameters(new_parameters)\n",
    "\n",
    "    def test(self, data, labels):\n",
    "        prediction = base_func.predict(data)\n",
    "        return loss_func.loss_value(prediction, labels)"
   ]
  },
  {
   "cell_type": "markdown",
   "id": "90a767a2",
   "metadata": {
    "lines_to_next_cell": 2
   },
   "source": [
    "# Concrete implementations"
   ]
  },
  {
   "cell_type": "code",
   "execution_count": 5,
   "id": "343341de",
   "metadata": {},
   "outputs": [],
   "source": [
    "class OrdinaryBaseFunc(BaseFunc):\n",
    "    def __init__(self, degree) -> None:\n",
    "        self._parameters = np.zeros(degree)\n",
    "\n",
    "    def predict(self, data):\n",
    "        # temp = data @ self._parameters\n",
    "        # print(temp.shape)\n",
    "        return data @ self._parameters\n",
    "\n",
    "    def derivative(self, data):\n",
    "        return data"
   ]
  },
  {
   "cell_type": "code",
   "execution_count": 6,
   "id": "567885e6",
   "metadata": {},
   "outputs": [],
   "source": [
    "class SE(LossFunc):\n",
    "    def loss_value(self, prediction, ground_trouth):\n",
    "        return (1 / 2) * (ground_trouth - prediction).T @ (ground_trouth - prediction)\n",
    "\n",
    "    def loss_derivative(self, prediction, ground_trouth):\n",
    "        return prediction - ground_trouth"
   ]
  },
  {
   "cell_type": "markdown",
   "id": "ca2334ff",
   "metadata": {},
   "source": [
    "# Load and display data"
   ]
  },
  {
   "cell_type": "code",
   "execution_count": 7,
   "id": "4cf9d345",
   "metadata": {},
   "outputs": [],
   "source": [
    "df = pd.read_csv(\"dane.data\", delimiter=r\"\\s+\", header=None, decimal=\",\")"
   ]
  },
  {
   "cell_type": "code",
   "execution_count": 8,
   "id": "19727d54",
   "metadata": {
    "lines_to_next_cell": 0
   },
   "outputs": [],
   "source": [
    "def divide_data(data, train_ratio):\n",
    "    # return train_test_split(data, train_size=train_ratio,  random_state=42)\n",
    "    return train_test_split(data, train_size=train_ratio, random_state=8)\n",
    "    # return train_test_split(data, train_size=train_ratio, stratify=housing[\"median_house_value\"], random_state=8)\n",
    "\n",
    "\n",
    "train_set, test_set = divide_data(df, 0.75)"
   ]
  },
  {
   "cell_type": "code",
   "execution_count": 9,
   "id": "84bf0d71",
   "metadata": {},
   "outputs": [
    {
     "data": {
      "text/html": [
       "<div>\n",
       "<style scoped>\n",
       "    .dataframe tbody tr th:only-of-type {\n",
       "        vertical-align: middle;\n",
       "    }\n",
       "\n",
       "    .dataframe tbody tr th {\n",
       "        vertical-align: top;\n",
       "    }\n",
       "\n",
       "    .dataframe thead th {\n",
       "        text-align: right;\n",
       "    }\n",
       "</style>\n",
       "<table border=\"1\" class=\"dataframe\">\n",
       "  <thead>\n",
       "    <tr style=\"text-align: right;\">\n",
       "      <th></th>\n",
       "      <th>0</th>\n",
       "      <th>1</th>\n",
       "      <th>2</th>\n",
       "      <th>3</th>\n",
       "      <th>4</th>\n",
       "      <th>5</th>\n",
       "      <th>6</th>\n",
       "    </tr>\n",
       "  </thead>\n",
       "  <tbody>\n",
       "    <tr>\n",
       "      <th>1502</th>\n",
       "      <td>5</td>\n",
       "      <td>2</td>\n",
       "      <td>2</td>\n",
       "      <td>37</td>\n",
       "      <td>51</td>\n",
       "      <td>1</td>\n",
       "      <td>7</td>\n",
       "    </tr>\n",
       "    <tr>\n",
       "      <th>1781</th>\n",
       "      <td>7</td>\n",
       "      <td>-4</td>\n",
       "      <td>6</td>\n",
       "      <td>7</td>\n",
       "      <td>46</td>\n",
       "      <td>-2</td>\n",
       "      <td>19</td>\n",
       "    </tr>\n",
       "    <tr>\n",
       "      <th>989</th>\n",
       "      <td>0</td>\n",
       "      <td>-1</td>\n",
       "      <td>2</td>\n",
       "      <td>21</td>\n",
       "      <td>33</td>\n",
       "      <td>-3</td>\n",
       "      <td>13</td>\n",
       "    </tr>\n",
       "    <tr>\n",
       "      <th>539</th>\n",
       "      <td>-5</td>\n",
       "      <td>-2</td>\n",
       "      <td>5</td>\n",
       "      <td>31</td>\n",
       "      <td>58</td>\n",
       "      <td>-2</td>\n",
       "      <td>15</td>\n",
       "    </tr>\n",
       "    <tr>\n",
       "      <th>893</th>\n",
       "      <td>-1</td>\n",
       "      <td>-2</td>\n",
       "      <td>3</td>\n",
       "      <td>20</td>\n",
       "      <td>37</td>\n",
       "      <td>1</td>\n",
       "      <td>15</td>\n",
       "    </tr>\n",
       "  </tbody>\n",
       "</table>\n",
       "</div>"
      ],
      "text/plain": [
       "      0  1  2   3   4  5   6\n",
       "1502  5  2  2  37  51  1   7\n",
       "1781  7 -4  6   7  46 -2  19\n",
       "989   0 -1  2  21  33 -3  13\n",
       "539  -5 -2  5  31  58 -2  15\n",
       "893  -1 -2  3  20  37  1  15"
      ]
     },
     "execution_count": 9,
     "metadata": {},
     "output_type": "execute_result"
    }
   ],
   "source": [
    "train_labels = train_set.pop(train_set.columns[7])\n",
    "test_labels = test_set.pop(test_set.columns[7])\n",
    "# train_set.insert(0, \"Ones\", 1)\n",
    "train_set.head()"
   ]
  },
  {
   "cell_type": "code",
   "execution_count": 10,
   "id": "f6b9beb9",
   "metadata": {},
   "outputs": [
    {
     "data": {
      "text/plain": [
       "1502    2040.17\n",
       "1781     673.05\n",
       "989      949.79\n",
       "539     1655.02\n",
       "893     1000.37\n",
       "Name: 7, dtype: float64"
      ]
     },
     "execution_count": 10,
     "metadata": {},
     "output_type": "execute_result"
    }
   ],
   "source": [
    "train_labels.head()"
   ]
  },
  {
   "cell_type": "code",
   "execution_count": 11,
   "id": "dfec1c3f",
   "metadata": {},
   "outputs": [],
   "source": [
    "def preprocess_data(data_matrix):\n",
    "    mean = np.mean(data_matrix, axis=0)\n",
    "    std = np.std(data_matrix, axis=0)\n",
    "    std[std == 0] = 1\n",
    "\n",
    "    standarized = (data_matrix - mean) / std\n",
    "    return np.c_[np.ones(standarized.shape[0]), standarized]"
   ]
  },
  {
   "cell_type": "code",
   "execution_count": 12,
   "id": "c406e79d",
   "metadata": {
    "lines_to_next_cell": 2
   },
   "outputs": [
    {
     "name": "stdout",
     "output_type": "stream",
     "text": [
      "[[ 1.          0.94645435  0.91001356 -1.50528864  1.56469799  0.75947842\n",
      "   1.40393053 -0.91001356]\n",
      " [ 1.          1.29641366 -1.17578205  0.84883517 -0.93014205  0.17946102\n",
      "  -0.68870308  1.17578205]\n",
      " [ 1.          0.07155606 -0.13288424 -1.50528864  0.23411663 -1.32858422\n",
      "  -1.38624761  0.13288424]\n",
      " [ 1.         -0.80334223 -0.48051684  0.26030422  1.06572998  1.57150279\n",
      "  -0.68870308  0.48051684]\n",
      " [ 1.         -0.1034236  -0.48051684 -0.91675768  0.1509553  -0.8645703\n",
      "   1.40393053  0.48051684]\n",
      " [ 1.          1.64637298  0.21474836  0.84883517 -1.34594873  1.45549931\n",
      "  -0.68870308 -0.21474836]]\n",
      "(1499, 8)\n",
      "(1499,)\n"
     ]
    }
   ],
   "source": [
    "train_matrix = train_set.to_numpy()\n",
    "train_labels_matrix = train_labels.to_numpy()\n",
    "\n",
    "train_matrix = preprocess_data(train_matrix)\n",
    "\n",
    "print(train_matrix[:6])\n",
    "print(train_matrix.shape)\n",
    "print(train_labels_matrix.shape)"
   ]
  },
  {
   "cell_type": "markdown",
   "id": "af1e4184",
   "metadata": {},
   "source": [
    "# Ordinary model"
   ]
  },
  {
   "cell_type": "code",
   "execution_count": 13,
   "id": "1ae0be1d",
   "metadata": {},
   "outputs": [],
   "source": [
    "base_func = OrdinaryBaseFunc(train_matrix.shape[1])\n",
    "loss_func = SE()\n",
    "\n",
    "model = Model(base_func, loss_func, 0.01)"
   ]
  },
  {
   "cell_type": "code",
   "execution_count": 14,
   "id": "72c6fa26",
   "metadata": {},
   "outputs": [
    {
     "name": "stdout",
     "output_type": "stream",
     "text": [
      "[14459.3789      2216.82399728  -394.49900962   151.14793893\n",
      "  6844.78765233  2252.55207138    88.39125017   394.49900962]\n",
      "[-187827.331911    -31169.7430241    15502.50258104   -6583.16756089\n",
      "  -89413.42438814  -29181.46220537    -396.68398623  -15502.50258104]\n",
      "[2642163.75233489  467782.04367048 -510248.41736609  163363.62928993\n",
      " 1279312.40433822  417021.27326789  -10638.26391106  510248.41736609]\n",
      "[-36949411.51626512  -6926978.69181048  15689804.61914966\n",
      "  -3603793.47645433 -18581709.44909183  -6086403.06395887\n",
      "    524535.1296854  -15689804.61914967]\n",
      "[ 5.16936726e+08  1.01478462e+08 -4.68491680e+08  7.81757755e+07\n",
      "  2.80507726e+08  9.28564934e+07 -1.64172662e+07  4.68491680e+08]\n",
      "[-7.23193034e+09 -1.46042445e+09  1.37990454e+10 -1.75258659e+09\n",
      " -4.52187686e+09 -1.51889236e+09  4.61435380e+08 -1.37990454e+10]\n",
      "[ 1.01174720e+11  2.03302641e+10 -4.03774412e+11  4.15877246e+10\n",
      "  8.05570292e+10  2.74655971e+10 -1.26523558e+10  4.03774412e+11]\n",
      "[-1.41543432e+12 -2.63460205e+11  1.17768762e+13 -1.04850322e+12\n",
      " -1.62762679e+12 -5.60916076e+11  3.48323987e+11 -1.17768762e+13]\n",
      "[ 1.98019261e+13  2.82284304e+12 -3.42950053e+14  2.78163124e+13\n",
      "  3.72790855e+13  1.29046277e+13 -9.71201781e+12  3.42950053e+14]\n",
      "[-2.77028946e+14 -1.08207510e+13  9.97904232e+15 -7.65395138e+14\n",
      " -9.42486332e+14 -3.26156012e+14  2.74316618e+14 -9.97904232e+15]\n",
      "[ 3.87563496e+15 -7.32948681e+14 -2.90252621e+17  2.15606149e+16\n",
      "  2.54090292e+16  8.77249245e+15 -7.82782569e+15  2.90252621e+17]\n",
      "[-5.42201331e+16  3.66869967e+16  8.44069527e+18 -6.15926703e+17\n",
      " -7.10612502e+17 -2.44717343e+17  2.24978721e+17 -8.44069527e+18]\n",
      "[ 7.58539662e+17 -1.29207467e+18 -2.45435669e+20  1.77367858e+19\n",
      "  2.02628431e+19  6.96392777e+18 -6.49624969e+18  2.45435669e+20]\n",
      "[-1.06119699e+19  4.08674532e+19  7.13634427e+21 -5.13036744e+20\n",
      " -5.83500686e+20 -2.00256214e+20  1.88119512e+20 -7.13634427e+21]\n",
      "[ 1.48461459e+20 -1.23650080e+21 -2.07492881e+23  1.48754519e+22\n",
      "  1.68852145e+22  5.78974264e+21 -5.45697520e+21  2.07492881e+23]\n",
      "[-2.07697580e+21  3.66569396e+22  6.03288760e+24 -4.31871512e+23\n",
      " -4.89798709e+23 -1.67853237e+23  1.58454882e+23 -6.03288760e+24]\n",
      "[ 2.90568915e+22 -1.07610720e+24 -1.75406048e+26  1.25469555e+25\n",
      "  1.42246484e+25  4.87315863e+24 -4.60371544e+24  1.75406048e+26]\n",
      "[-4.06505912e+23  3.14382263e+25  5.09991026e+27 -3.64653557e+26\n",
      " -4.13348731e+26 -1.41580181e+26  1.33798689e+26 -5.09991026e+27]\n",
      "[ 5.68701771e+24 -9.16259044e+26 -1.48279058e+29  1.05999994e+28\n",
      "  1.20147487e+28  4.11484094e+27 -3.88931915e+27  1.48279058e+29]\n",
      "[-7.95613778e+25  2.66721396e+28  4.31118596e+30 -3.08159015e+29\n",
      " -3.49279478e+29 -1.19614732e+29  1.13067701e+29 -4.31118596e+30]\n",
      "[ 1.11306368e+27 -7.75955338e+29 -1.25346878e+32  8.95914836e+30\n",
      "  1.01545581e+31  3.47742463e+30 -3.28720837e+30  1.25346878e+32]\n",
      "[-1.55717608e+28  2.25675752e+31  3.64443490e+33 -2.60477652e+32\n",
      " -2.95232060e+32 -1.01100194e+32  9.55715873e+31 -3.64443490e+33]\n",
      "[ 2.17848934e+29 -6.56247280e+32 -1.05961190e+35  7.57321689e+33\n",
      "  8.58367278e+33  2.93938937e+33 -2.77867233e+33  1.05961190e+35]\n",
      "[-3.04770658e+30  1.90817079e+34  3.08079951e+36 -2.20187942e+35\n",
      " -2.49566511e+35 -8.54609713e+34  8.07885152e+34 -3.08079951e+36]\n",
      "[ 4.26374151e+31 -5.54817904e+35 -8.95736012e+37  6.40189185e+36\n",
      "  7.25606557e+36  2.48474251e+36 -2.34889675e+36  8.95736012e+37]\n",
      "[-5.96497438e+32  1.61315243e+37  2.60433367e+39 -1.86133266e+38\n",
      " -2.10968175e+38 -7.22431084e+37  6.82934891e+37 -2.60433367e+39]\n",
      "[ 8.34499916e+33 -4.69025211e+38 -7.57204550e+40  5.41177968e+39\n",
      "  6.13384949e+39  2.10044934e+39 -1.98561592e+39  7.57204550e+40]\n",
      "[-1.16746538e+35  1.36368757e+40  2.20155633e+42 -1.57346268e+41\n",
      " -1.78340301e+41 -6.10700659e+40  5.77313209e+40 -2.20155633e+42]\n",
      "[ 1.63328408e+36 -3.96490262e+41 -6.40097880e+43  4.57480837e+42\n",
      "  5.18520556e+42  1.77559848e+42 -1.67852534e+42  6.40097880e+43]\n",
      "[-2.28496443e+37  1.15278852e+43  1.86107114e+45 -1.33011572e+44\n",
      " -1.50758745e+44 -5.16251398e+43  4.88027612e+43 -1.86107114e+45]\n",
      "[ 3.19666527e+38 -3.35171047e+44 -5.41102525e+46  3.86728322e+45\n",
      "  4.38327858e+45  1.50098990e+45 -1.41892987e+45  5.41102525e+46]\n",
      "[-4.47213479e+39  9.74503082e+45  1.57324423e+48 -1.12440443e+47\n",
      " -1.27442900e+47 -4.36409633e+46  4.12550855e+46 -1.57324423e+48]\n",
      "[ 6.25651694e+40 -2.83334768e+47 -4.57417454e+49  3.26918219e+48\n",
      "  3.70537550e+48  1.26885180e+48 -1.19948291e+48  4.57417454e+49]\n",
      "[-8.75286805e+41  8.23789952e+48  1.32993164e+51 -9.50507845e+49\n",
      " -1.07733014e+50 -3.68915988e+49  3.48747130e+49 -1.32993164e+51]\n",
      "[ 1.22452651e+43 -2.39515207e+50 -3.86674831e+52  2.76358158e+51\n",
      "  3.13231473e+51  1.07261548e+51 -1.01397495e+51  3.86674831e+52]\n",
      "[-1.71311316e+44  6.96385448e+51  1.12424895e+54 -8.03505536e+52\n",
      " -9.10713926e+52 -3.11860695e+52  2.94811085e+52 -1.12424895e+54]\n",
      "[ 2.39664759e+45 -2.02472608e+53 -3.26873020e+55  2.33617546e+54\n",
      "  2.64788161e+54  9.06728419e+53 -8.57157034e+53  3.26873020e+55]\n",
      "[-3.35291512e+46  5.88684858e+54  9.50376439e+56 -6.79238109e+55\n",
      " -7.69866015e+55 -2.63629383e+55  2.49216607e+55 -9.50376439e+56]\n",
      "[ 4.69074800e+47 -1.71158886e+56 -2.76319953e+58  1.97487053e+57\n",
      "  2.23836926e+57  7.66496892e+56 -7.24592049e+56  2.76319953e+58]\n",
      "[-6.56241216e+48  4.97640868e+57  8.03394460e+59 -5.74189459e+58\n",
      " -6.50801162e+58 -2.22857361e+58  2.10673616e+58 -8.03394460e+59]\n",
      "1.953933426159063e+123\n"
     ]
    }
   ],
   "source": [
    "model.train(40, train_matrix, train_labels_matrix)\n",
    "\n",
    "print(model.test(train_matrix, train_labels_matrix))"
   ]
  },
  {
   "cell_type": "code",
   "execution_count": null,
   "id": "13a27ed6",
   "metadata": {},
   "outputs": [],
   "source": []
  }
 ],
 "metadata": {
  "jupytext": {
   "formats": "ipynb,py:percent"
  },
  "kernelspec": {
   "display_name": "Python 3 (ipykernel)",
   "language": "python",
   "name": "python3"
  },
  "language_info": {
   "codemirror_mode": {
    "name": "ipython",
    "version": 3
   },
   "file_extension": ".py",
   "mimetype": "text/x-python",
   "name": "python",
   "nbconvert_exporter": "python",
   "pygments_lexer": "ipython3",
   "version": "3.13.2"
  }
 },
 "nbformat": 4,
 "nbformat_minor": 5
}
